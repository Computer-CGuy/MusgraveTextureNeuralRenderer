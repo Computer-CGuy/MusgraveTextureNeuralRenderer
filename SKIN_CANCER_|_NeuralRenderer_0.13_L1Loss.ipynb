{
  "nbformat": 4,
  "nbformat_minor": 0,
  "metadata": {
    "colab": {
      "name": "SKIN CANCER | NeuralRenderer.ipynb",
      "provenance": [],
      "collapsed_sections": [],
      "mount_file_id": "1UMo0pAtHlbaAXAhqtTor8kFqaW3MUkR3",
      "authorship_tag": "ABX9TyP3IyDW9XrKvxdf0vwhpMD8",
      "include_colab_link": true
    },
    "kernelspec": {
      "name": "python3",
      "display_name": "Python 3"
    },
    "accelerator": "GPU",
    "widgets": {
      "application/vnd.jupyter.widget-state+json": {
        "841d527e7a924db994283fc136d9e035": {
          "model_module": "@jupyter-widgets/controls",
          "model_name": "HBoxModel",
          "state": {
            "_view_name": "HBoxView",
            "_dom_classes": [],
            "_model_name": "HBoxModel",
            "_view_module": "@jupyter-widgets/controls",
            "_model_module_version": "1.5.0",
            "_view_count": null,
            "_view_module_version": "1.5.0",
            "box_style": "",
            "layout": "IPY_MODEL_aa3fe5f87e794c319bd399c58002949c",
            "_model_module": "@jupyter-widgets/controls",
            "children": [
              "IPY_MODEL_94c00fadb5454ad6a248806ffc5a6701",
              "IPY_MODEL_cd7b84f8298a43f8ab11af15f562b0d0"
            ]
          }
        },
        "aa3fe5f87e794c319bd399c58002949c": {
          "model_module": "@jupyter-widgets/base",
          "model_name": "LayoutModel",
          "state": {
            "_view_name": "LayoutView",
            "grid_template_rows": null,
            "right": null,
            "justify_content": null,
            "_view_module": "@jupyter-widgets/base",
            "overflow": null,
            "_model_module_version": "1.2.0",
            "_view_count": null,
            "flex_flow": null,
            "width": null,
            "min_width": null,
            "border": null,
            "align_items": null,
            "bottom": null,
            "_model_module": "@jupyter-widgets/base",
            "top": null,
            "grid_column": null,
            "overflow_y": null,
            "overflow_x": null,
            "grid_auto_flow": null,
            "grid_area": null,
            "grid_template_columns": null,
            "flex": null,
            "_model_name": "LayoutModel",
            "justify_items": null,
            "grid_row": null,
            "max_height": null,
            "align_content": null,
            "visibility": null,
            "align_self": null,
            "height": null,
            "min_height": null,
            "padding": null,
            "grid_auto_rows": null,
            "grid_gap": null,
            "max_width": null,
            "order": null,
            "_view_module_version": "1.2.0",
            "grid_template_areas": null,
            "object_position": null,
            "object_fit": null,
            "grid_auto_columns": null,
            "margin": null,
            "display": null,
            "left": null
          }
        },
        "94c00fadb5454ad6a248806ffc5a6701": {
          "model_module": "@jupyter-widgets/controls",
          "model_name": "FloatProgressModel",
          "state": {
            "_view_name": "ProgressView",
            "style": "IPY_MODEL_f308adbb7e014587b784892a456427c0",
            "_dom_classes": [],
            "description": "100%",
            "_model_name": "FloatProgressModel",
            "bar_style": "success",
            "max": 100441675,
            "_view_module": "@jupyter-widgets/controls",
            "_model_module_version": "1.5.0",
            "value": 100441675,
            "_view_count": null,
            "_view_module_version": "1.5.0",
            "orientation": "horizontal",
            "min": 0,
            "description_tooltip": null,
            "_model_module": "@jupyter-widgets/controls",
            "layout": "IPY_MODEL_6ff90cc35a5541c58d0bf0a8f3712db0"
          }
        },
        "cd7b84f8298a43f8ab11af15f562b0d0": {
          "model_module": "@jupyter-widgets/controls",
          "model_name": "HTMLModel",
          "state": {
            "_view_name": "HTMLView",
            "style": "IPY_MODEL_58b5e22ce140482fa6155a4dd75161f4",
            "_dom_classes": [],
            "description": "",
            "_model_name": "HTMLModel",
            "placeholder": "​",
            "_view_module": "@jupyter-widgets/controls",
            "_model_module_version": "1.5.0",
            "value": " 95.8M/95.8M [02:35&lt;00:00, 645kB/s]",
            "_view_count": null,
            "_view_module_version": "1.5.0",
            "description_tooltip": null,
            "_model_module": "@jupyter-widgets/controls",
            "layout": "IPY_MODEL_e7b1b3a9696e4abba00f12f27a5af023"
          }
        },
        "f308adbb7e014587b784892a456427c0": {
          "model_module": "@jupyter-widgets/controls",
          "model_name": "ProgressStyleModel",
          "state": {
            "_view_name": "StyleView",
            "_model_name": "ProgressStyleModel",
            "description_width": "initial",
            "_view_module": "@jupyter-widgets/base",
            "_model_module_version": "1.5.0",
            "_view_count": null,
            "_view_module_version": "1.2.0",
            "bar_color": null,
            "_model_module": "@jupyter-widgets/controls"
          }
        },
        "6ff90cc35a5541c58d0bf0a8f3712db0": {
          "model_module": "@jupyter-widgets/base",
          "model_name": "LayoutModel",
          "state": {
            "_view_name": "LayoutView",
            "grid_template_rows": null,
            "right": null,
            "justify_content": null,
            "_view_module": "@jupyter-widgets/base",
            "overflow": null,
            "_model_module_version": "1.2.0",
            "_view_count": null,
            "flex_flow": null,
            "width": null,
            "min_width": null,
            "border": null,
            "align_items": null,
            "bottom": null,
            "_model_module": "@jupyter-widgets/base",
            "top": null,
            "grid_column": null,
            "overflow_y": null,
            "overflow_x": null,
            "grid_auto_flow": null,
            "grid_area": null,
            "grid_template_columns": null,
            "flex": null,
            "_model_name": "LayoutModel",
            "justify_items": null,
            "grid_row": null,
            "max_height": null,
            "align_content": null,
            "visibility": null,
            "align_self": null,
            "height": null,
            "min_height": null,
            "padding": null,
            "grid_auto_rows": null,
            "grid_gap": null,
            "max_width": null,
            "order": null,
            "_view_module_version": "1.2.0",
            "grid_template_areas": null,
            "object_position": null,
            "object_fit": null,
            "grid_auto_columns": null,
            "margin": null,
            "display": null,
            "left": null
          }
        },
        "58b5e22ce140482fa6155a4dd75161f4": {
          "model_module": "@jupyter-widgets/controls",
          "model_name": "DescriptionStyleModel",
          "state": {
            "_view_name": "StyleView",
            "_model_name": "DescriptionStyleModel",
            "description_width": "",
            "_view_module": "@jupyter-widgets/base",
            "_model_module_version": "1.5.0",
            "_view_count": null,
            "_view_module_version": "1.2.0",
            "_model_module": "@jupyter-widgets/controls"
          }
        },
        "e7b1b3a9696e4abba00f12f27a5af023": {
          "model_module": "@jupyter-widgets/base",
          "model_name": "LayoutModel",
          "state": {
            "_view_name": "LayoutView",
            "grid_template_rows": null,
            "right": null,
            "justify_content": null,
            "_view_module": "@jupyter-widgets/base",
            "overflow": null,
            "_model_module_version": "1.2.0",
            "_view_count": null,
            "flex_flow": null,
            "width": null,
            "min_width": null,
            "border": null,
            "align_items": null,
            "bottom": null,
            "_model_module": "@jupyter-widgets/base",
            "top": null,
            "grid_column": null,
            "overflow_y": null,
            "overflow_x": null,
            "grid_auto_flow": null,
            "grid_area": null,
            "grid_template_columns": null,
            "flex": null,
            "_model_name": "LayoutModel",
            "justify_items": null,
            "grid_row": null,
            "max_height": null,
            "align_content": null,
            "visibility": null,
            "align_self": null,
            "height": null,
            "min_height": null,
            "padding": null,
            "grid_auto_rows": null,
            "grid_gap": null,
            "max_width": null,
            "order": null,
            "_view_module_version": "1.2.0",
            "grid_template_areas": null,
            "object_position": null,
            "object_fit": null,
            "grid_auto_columns": null,
            "margin": null,
            "display": null,
            "left": null
          }
        }
      }
    }
  },
  "cells": [
    {
      "cell_type": "markdown",
      "metadata": {
        "id": "view-in-github",
        "colab_type": "text"
      },
      "source": [
        "<a href=\"https://colab.research.google.com/github/Computer-CGuy/MusgraveTextureNeuralRenderer/blob/models/SKIN_CANCER_%7C_NeuralRenderer_0.13_L1Loss.ipynb\" target=\"_parent\"><img src=\"https://colab.research.google.com/assets/colab-badge.svg\" alt=\"Open In Colab\"/></a>"
      ]
    },
    {
      "cell_type": "code",
      "metadata": {
        "id": "Y0oTfdm0cbKH"
      },
      "source": [
        "import torch  \n",
        "import matplotlib.pyplot as plt  \n",
        "import numpy as np  \n",
        "import torch.nn.functional as func\n",
        "import torch.nn.functional as F\n",
        "import PIL.ImageOps  \n",
        "from torch import nn  \n",
        "from torchvision import datasets,transforms   \n",
        "import requests  \n",
        "from PIL import Image  \n",
        "import torchvision.models as models\n",
        "import os\n",
        "import json\n",
        "from torch.utils.data import Dataset, DataLoader, Subset\n",
        "import cv2\n",
        "from google.colab.patches import cv2_imshow\n",
        "import torchvision\n",
        "import pickle"
      ],
      "execution_count": 1,
      "outputs": []
    },
    {
      "cell_type": "code",
      "metadata": {
        "id": "vPrZDKYpdF7Z",
        "outputId": "76d99d47-7492-4582-a068-2dd772d40df5",
        "colab": {
          "base_uri": "https://localhost:8080/",
          "height": 103,
          "referenced_widgets": [
            "841d527e7a924db994283fc136d9e035",
            "aa3fe5f87e794c319bd399c58002949c",
            "94c00fadb5454ad6a248806ffc5a6701",
            "cd7b84f8298a43f8ab11af15f562b0d0",
            "f308adbb7e014587b784892a456427c0",
            "6ff90cc35a5541c58d0bf0a8f3712db0",
            "58b5e22ce140482fa6155a4dd75161f4",
            "e7b1b3a9696e4abba00f12f27a5af023"
          ]
        }
      },
      "source": [
        "net = models.resnext50_32x4d(pretrained=True).cuda()"
      ],
      "execution_count": 2,
      "outputs": [
        {
          "output_type": "stream",
          "text": [
            "Downloading: \"https://download.pytorch.org/models/resnext50_32x4d-7cdf4587.pth\" to /root/.cache/torch/hub/checkpoints/resnext50_32x4d-7cdf4587.pth\n"
          ],
          "name": "stderr"
        },
        {
          "output_type": "display_data",
          "data": {
            "application/vnd.jupyter.widget-view+json": {
              "model_id": "841d527e7a924db994283fc136d9e035",
              "version_minor": 0,
              "version_major": 2
            },
            "text/plain": [
              "HBox(children=(FloatProgress(value=0.0, max=100441675.0), HTML(value='')))"
            ]
          },
          "metadata": {
            "tags": []
          }
        },
        {
          "output_type": "stream",
          "text": [
            "\n"
          ],
          "name": "stdout"
        }
      ]
    },
    {
      "cell_type": "code",
      "metadata": {
        "id": "TbWQ_ysQpIgF",
        "outputId": "5422af32-bc5d-4c1f-d92d-e22bd9bec1bb",
        "colab": {
          "base_uri": "https://localhost:8080/"
        }
      },
      "source": [
        "net"
      ],
      "execution_count": 3,
      "outputs": [
        {
          "output_type": "execute_result",
          "data": {
            "text/plain": [
              "ResNet(\n",
              "  (conv1): Conv2d(3, 64, kernel_size=(7, 7), stride=(2, 2), padding=(3, 3), bias=False)\n",
              "  (bn1): BatchNorm2d(64, eps=1e-05, momentum=0.1, affine=True, track_running_stats=True)\n",
              "  (relu): ReLU(inplace=True)\n",
              "  (maxpool): MaxPool2d(kernel_size=3, stride=2, padding=1, dilation=1, ceil_mode=False)\n",
              "  (layer1): Sequential(\n",
              "    (0): Bottleneck(\n",
              "      (conv1): Conv2d(64, 128, kernel_size=(1, 1), stride=(1, 1), bias=False)\n",
              "      (bn1): BatchNorm2d(128, eps=1e-05, momentum=0.1, affine=True, track_running_stats=True)\n",
              "      (conv2): Conv2d(128, 128, kernel_size=(3, 3), stride=(1, 1), padding=(1, 1), groups=32, bias=False)\n",
              "      (bn2): BatchNorm2d(128, eps=1e-05, momentum=0.1, affine=True, track_running_stats=True)\n",
              "      (conv3): Conv2d(128, 256, kernel_size=(1, 1), stride=(1, 1), bias=False)\n",
              "      (bn3): BatchNorm2d(256, eps=1e-05, momentum=0.1, affine=True, track_running_stats=True)\n",
              "      (relu): ReLU(inplace=True)\n",
              "      (downsample): Sequential(\n",
              "        (0): Conv2d(64, 256, kernel_size=(1, 1), stride=(1, 1), bias=False)\n",
              "        (1): BatchNorm2d(256, eps=1e-05, momentum=0.1, affine=True, track_running_stats=True)\n",
              "      )\n",
              "    )\n",
              "    (1): Bottleneck(\n",
              "      (conv1): Conv2d(256, 128, kernel_size=(1, 1), stride=(1, 1), bias=False)\n",
              "      (bn1): BatchNorm2d(128, eps=1e-05, momentum=0.1, affine=True, track_running_stats=True)\n",
              "      (conv2): Conv2d(128, 128, kernel_size=(3, 3), stride=(1, 1), padding=(1, 1), groups=32, bias=False)\n",
              "      (bn2): BatchNorm2d(128, eps=1e-05, momentum=0.1, affine=True, track_running_stats=True)\n",
              "      (conv3): Conv2d(128, 256, kernel_size=(1, 1), stride=(1, 1), bias=False)\n",
              "      (bn3): BatchNorm2d(256, eps=1e-05, momentum=0.1, affine=True, track_running_stats=True)\n",
              "      (relu): ReLU(inplace=True)\n",
              "    )\n",
              "    (2): Bottleneck(\n",
              "      (conv1): Conv2d(256, 128, kernel_size=(1, 1), stride=(1, 1), bias=False)\n",
              "      (bn1): BatchNorm2d(128, eps=1e-05, momentum=0.1, affine=True, track_running_stats=True)\n",
              "      (conv2): Conv2d(128, 128, kernel_size=(3, 3), stride=(1, 1), padding=(1, 1), groups=32, bias=False)\n",
              "      (bn2): BatchNorm2d(128, eps=1e-05, momentum=0.1, affine=True, track_running_stats=True)\n",
              "      (conv3): Conv2d(128, 256, kernel_size=(1, 1), stride=(1, 1), bias=False)\n",
              "      (bn3): BatchNorm2d(256, eps=1e-05, momentum=0.1, affine=True, track_running_stats=True)\n",
              "      (relu): ReLU(inplace=True)\n",
              "    )\n",
              "  )\n",
              "  (layer2): Sequential(\n",
              "    (0): Bottleneck(\n",
              "      (conv1): Conv2d(256, 256, kernel_size=(1, 1), stride=(1, 1), bias=False)\n",
              "      (bn1): BatchNorm2d(256, eps=1e-05, momentum=0.1, affine=True, track_running_stats=True)\n",
              "      (conv2): Conv2d(256, 256, kernel_size=(3, 3), stride=(2, 2), padding=(1, 1), groups=32, bias=False)\n",
              "      (bn2): BatchNorm2d(256, eps=1e-05, momentum=0.1, affine=True, track_running_stats=True)\n",
              "      (conv3): Conv2d(256, 512, kernel_size=(1, 1), stride=(1, 1), bias=False)\n",
              "      (bn3): BatchNorm2d(512, eps=1e-05, momentum=0.1, affine=True, track_running_stats=True)\n",
              "      (relu): ReLU(inplace=True)\n",
              "      (downsample): Sequential(\n",
              "        (0): Conv2d(256, 512, kernel_size=(1, 1), stride=(2, 2), bias=False)\n",
              "        (1): BatchNorm2d(512, eps=1e-05, momentum=0.1, affine=True, track_running_stats=True)\n",
              "      )\n",
              "    )\n",
              "    (1): Bottleneck(\n",
              "      (conv1): Conv2d(512, 256, kernel_size=(1, 1), stride=(1, 1), bias=False)\n",
              "      (bn1): BatchNorm2d(256, eps=1e-05, momentum=0.1, affine=True, track_running_stats=True)\n",
              "      (conv2): Conv2d(256, 256, kernel_size=(3, 3), stride=(1, 1), padding=(1, 1), groups=32, bias=False)\n",
              "      (bn2): BatchNorm2d(256, eps=1e-05, momentum=0.1, affine=True, track_running_stats=True)\n",
              "      (conv3): Conv2d(256, 512, kernel_size=(1, 1), stride=(1, 1), bias=False)\n",
              "      (bn3): BatchNorm2d(512, eps=1e-05, momentum=0.1, affine=True, track_running_stats=True)\n",
              "      (relu): ReLU(inplace=True)\n",
              "    )\n",
              "    (2): Bottleneck(\n",
              "      (conv1): Conv2d(512, 256, kernel_size=(1, 1), stride=(1, 1), bias=False)\n",
              "      (bn1): BatchNorm2d(256, eps=1e-05, momentum=0.1, affine=True, track_running_stats=True)\n",
              "      (conv2): Conv2d(256, 256, kernel_size=(3, 3), stride=(1, 1), padding=(1, 1), groups=32, bias=False)\n",
              "      (bn2): BatchNorm2d(256, eps=1e-05, momentum=0.1, affine=True, track_running_stats=True)\n",
              "      (conv3): Conv2d(256, 512, kernel_size=(1, 1), stride=(1, 1), bias=False)\n",
              "      (bn3): BatchNorm2d(512, eps=1e-05, momentum=0.1, affine=True, track_running_stats=True)\n",
              "      (relu): ReLU(inplace=True)\n",
              "    )\n",
              "    (3): Bottleneck(\n",
              "      (conv1): Conv2d(512, 256, kernel_size=(1, 1), stride=(1, 1), bias=False)\n",
              "      (bn1): BatchNorm2d(256, eps=1e-05, momentum=0.1, affine=True, track_running_stats=True)\n",
              "      (conv2): Conv2d(256, 256, kernel_size=(3, 3), stride=(1, 1), padding=(1, 1), groups=32, bias=False)\n",
              "      (bn2): BatchNorm2d(256, eps=1e-05, momentum=0.1, affine=True, track_running_stats=True)\n",
              "      (conv3): Conv2d(256, 512, kernel_size=(1, 1), stride=(1, 1), bias=False)\n",
              "      (bn3): BatchNorm2d(512, eps=1e-05, momentum=0.1, affine=True, track_running_stats=True)\n",
              "      (relu): ReLU(inplace=True)\n",
              "    )\n",
              "  )\n",
              "  (layer3): Sequential(\n",
              "    (0): Bottleneck(\n",
              "      (conv1): Conv2d(512, 512, kernel_size=(1, 1), stride=(1, 1), bias=False)\n",
              "      (bn1): BatchNorm2d(512, eps=1e-05, momentum=0.1, affine=True, track_running_stats=True)\n",
              "      (conv2): Conv2d(512, 512, kernel_size=(3, 3), stride=(2, 2), padding=(1, 1), groups=32, bias=False)\n",
              "      (bn2): BatchNorm2d(512, eps=1e-05, momentum=0.1, affine=True, track_running_stats=True)\n",
              "      (conv3): Conv2d(512, 1024, kernel_size=(1, 1), stride=(1, 1), bias=False)\n",
              "      (bn3): BatchNorm2d(1024, eps=1e-05, momentum=0.1, affine=True, track_running_stats=True)\n",
              "      (relu): ReLU(inplace=True)\n",
              "      (downsample): Sequential(\n",
              "        (0): Conv2d(512, 1024, kernel_size=(1, 1), stride=(2, 2), bias=False)\n",
              "        (1): BatchNorm2d(1024, eps=1e-05, momentum=0.1, affine=True, track_running_stats=True)\n",
              "      )\n",
              "    )\n",
              "    (1): Bottleneck(\n",
              "      (conv1): Conv2d(1024, 512, kernel_size=(1, 1), stride=(1, 1), bias=False)\n",
              "      (bn1): BatchNorm2d(512, eps=1e-05, momentum=0.1, affine=True, track_running_stats=True)\n",
              "      (conv2): Conv2d(512, 512, kernel_size=(3, 3), stride=(1, 1), padding=(1, 1), groups=32, bias=False)\n",
              "      (bn2): BatchNorm2d(512, eps=1e-05, momentum=0.1, affine=True, track_running_stats=True)\n",
              "      (conv3): Conv2d(512, 1024, kernel_size=(1, 1), stride=(1, 1), bias=False)\n",
              "      (bn3): BatchNorm2d(1024, eps=1e-05, momentum=0.1, affine=True, track_running_stats=True)\n",
              "      (relu): ReLU(inplace=True)\n",
              "    )\n",
              "    (2): Bottleneck(\n",
              "      (conv1): Conv2d(1024, 512, kernel_size=(1, 1), stride=(1, 1), bias=False)\n",
              "      (bn1): BatchNorm2d(512, eps=1e-05, momentum=0.1, affine=True, track_running_stats=True)\n",
              "      (conv2): Conv2d(512, 512, kernel_size=(3, 3), stride=(1, 1), padding=(1, 1), groups=32, bias=False)\n",
              "      (bn2): BatchNorm2d(512, eps=1e-05, momentum=0.1, affine=True, track_running_stats=True)\n",
              "      (conv3): Conv2d(512, 1024, kernel_size=(1, 1), stride=(1, 1), bias=False)\n",
              "      (bn3): BatchNorm2d(1024, eps=1e-05, momentum=0.1, affine=True, track_running_stats=True)\n",
              "      (relu): ReLU(inplace=True)\n",
              "    )\n",
              "    (3): Bottleneck(\n",
              "      (conv1): Conv2d(1024, 512, kernel_size=(1, 1), stride=(1, 1), bias=False)\n",
              "      (bn1): BatchNorm2d(512, eps=1e-05, momentum=0.1, affine=True, track_running_stats=True)\n",
              "      (conv2): Conv2d(512, 512, kernel_size=(3, 3), stride=(1, 1), padding=(1, 1), groups=32, bias=False)\n",
              "      (bn2): BatchNorm2d(512, eps=1e-05, momentum=0.1, affine=True, track_running_stats=True)\n",
              "      (conv3): Conv2d(512, 1024, kernel_size=(1, 1), stride=(1, 1), bias=False)\n",
              "      (bn3): BatchNorm2d(1024, eps=1e-05, momentum=0.1, affine=True, track_running_stats=True)\n",
              "      (relu): ReLU(inplace=True)\n",
              "    )\n",
              "    (4): Bottleneck(\n",
              "      (conv1): Conv2d(1024, 512, kernel_size=(1, 1), stride=(1, 1), bias=False)\n",
              "      (bn1): BatchNorm2d(512, eps=1e-05, momentum=0.1, affine=True, track_running_stats=True)\n",
              "      (conv2): Conv2d(512, 512, kernel_size=(3, 3), stride=(1, 1), padding=(1, 1), groups=32, bias=False)\n",
              "      (bn2): BatchNorm2d(512, eps=1e-05, momentum=0.1, affine=True, track_running_stats=True)\n",
              "      (conv3): Conv2d(512, 1024, kernel_size=(1, 1), stride=(1, 1), bias=False)\n",
              "      (bn3): BatchNorm2d(1024, eps=1e-05, momentum=0.1, affine=True, track_running_stats=True)\n",
              "      (relu): ReLU(inplace=True)\n",
              "    )\n",
              "    (5): Bottleneck(\n",
              "      (conv1): Conv2d(1024, 512, kernel_size=(1, 1), stride=(1, 1), bias=False)\n",
              "      (bn1): BatchNorm2d(512, eps=1e-05, momentum=0.1, affine=True, track_running_stats=True)\n",
              "      (conv2): Conv2d(512, 512, kernel_size=(3, 3), stride=(1, 1), padding=(1, 1), groups=32, bias=False)\n",
              "      (bn2): BatchNorm2d(512, eps=1e-05, momentum=0.1, affine=True, track_running_stats=True)\n",
              "      (conv3): Conv2d(512, 1024, kernel_size=(1, 1), stride=(1, 1), bias=False)\n",
              "      (bn3): BatchNorm2d(1024, eps=1e-05, momentum=0.1, affine=True, track_running_stats=True)\n",
              "      (relu): ReLU(inplace=True)\n",
              "    )\n",
              "  )\n",
              "  (layer4): Sequential(\n",
              "    (0): Bottleneck(\n",
              "      (conv1): Conv2d(1024, 1024, kernel_size=(1, 1), stride=(1, 1), bias=False)\n",
              "      (bn1): BatchNorm2d(1024, eps=1e-05, momentum=0.1, affine=True, track_running_stats=True)\n",
              "      (conv2): Conv2d(1024, 1024, kernel_size=(3, 3), stride=(2, 2), padding=(1, 1), groups=32, bias=False)\n",
              "      (bn2): BatchNorm2d(1024, eps=1e-05, momentum=0.1, affine=True, track_running_stats=True)\n",
              "      (conv3): Conv2d(1024, 2048, kernel_size=(1, 1), stride=(1, 1), bias=False)\n",
              "      (bn3): BatchNorm2d(2048, eps=1e-05, momentum=0.1, affine=True, track_running_stats=True)\n",
              "      (relu): ReLU(inplace=True)\n",
              "      (downsample): Sequential(\n",
              "        (0): Conv2d(1024, 2048, kernel_size=(1, 1), stride=(2, 2), bias=False)\n",
              "        (1): BatchNorm2d(2048, eps=1e-05, momentum=0.1, affine=True, track_running_stats=True)\n",
              "      )\n",
              "    )\n",
              "    (1): Bottleneck(\n",
              "      (conv1): Conv2d(2048, 1024, kernel_size=(1, 1), stride=(1, 1), bias=False)\n",
              "      (bn1): BatchNorm2d(1024, eps=1e-05, momentum=0.1, affine=True, track_running_stats=True)\n",
              "      (conv2): Conv2d(1024, 1024, kernel_size=(3, 3), stride=(1, 1), padding=(1, 1), groups=32, bias=False)\n",
              "      (bn2): BatchNorm2d(1024, eps=1e-05, momentum=0.1, affine=True, track_running_stats=True)\n",
              "      (conv3): Conv2d(1024, 2048, kernel_size=(1, 1), stride=(1, 1), bias=False)\n",
              "      (bn3): BatchNorm2d(2048, eps=1e-05, momentum=0.1, affine=True, track_running_stats=True)\n",
              "      (relu): ReLU(inplace=True)\n",
              "    )\n",
              "    (2): Bottleneck(\n",
              "      (conv1): Conv2d(2048, 1024, kernel_size=(1, 1), stride=(1, 1), bias=False)\n",
              "      (bn1): BatchNorm2d(1024, eps=1e-05, momentum=0.1, affine=True, track_running_stats=True)\n",
              "      (conv2): Conv2d(1024, 1024, kernel_size=(3, 3), stride=(1, 1), padding=(1, 1), groups=32, bias=False)\n",
              "      (bn2): BatchNorm2d(1024, eps=1e-05, momentum=0.1, affine=True, track_running_stats=True)\n",
              "      (conv3): Conv2d(1024, 2048, kernel_size=(1, 1), stride=(1, 1), bias=False)\n",
              "      (bn3): BatchNorm2d(2048, eps=1e-05, momentum=0.1, affine=True, track_running_stats=True)\n",
              "      (relu): ReLU(inplace=True)\n",
              "    )\n",
              "  )\n",
              "  (avgpool): AdaptiveAvgPool2d(output_size=(1, 1))\n",
              "  (fc): Linear(in_features=2048, out_features=1000, bias=True)\n",
              ")"
            ]
          },
          "metadata": {
            "tags": []
          },
          "execution_count": 3
        }
      ]
    },
    {
      "cell_type": "code",
      "metadata": {
        "id": "Iq_EkxrQPGJ_"
      },
      "source": [
        "net.fc = nn.Sequential(\n",
        "          nn.Linear(2048,1024),\n",
        "          nn.LeakyReLU(),\n",
        "          nn.Linear(1024,512),\n",
        "          nn.LeakyReLU(),\n",
        "          nn.Linear(512,4),\n",
        "          nn.LeakyReLU()\n",
        "        ).cuda()"
      ],
      "execution_count": 4,
      "outputs": []
    },
    {
      "cell_type": "code",
      "metadata": {
        "id": "YFpH8E4qkuEx"
      },
      "source": [
        "from PIL import Image"
      ],
      "execution_count": 5,
      "outputs": []
    },
    {
      "cell_type": "code",
      "metadata": {
        "id": "C8we7sN4a3ia",
        "outputId": "6512af84-d137-4955-cc2a-bc1682f60652",
        "colab": {
          "base_uri": "https://localhost:8080/"
        }
      },
      "source": [
        "!ls \"/content/drive/My Drive/MusgraveTextureNeuralRenderer/GeneratorDictionaries\" | wc -l"
      ],
      "execution_count": 7,
      "outputs": [
        {
          "output_type": "stream",
          "text": [
            "10251\n"
          ],
          "name": "stdout"
        }
      ]
    },
    {
      "cell_type": "code",
      "metadata": {
        "id": "1O2fuy8abI65"
      },
      "source": [
        "# with open(\"/content/drive/My Drive/MusgraveTextureNeuralRenderer/GeneratorDictionaries/out.pkl\",\"rb\") as f:\n",
        "#     l = (pickle.load(f))"
      ],
      "execution_count": 7,
      "outputs": []
    },
    {
      "cell_type": "code",
      "metadata": {
        "id": "W-5j8TIXqXvP",
        "outputId": "1c1a3954-56d0-4d6f-8aa4-f2bc79fee7c3",
        "colab": {
          "base_uri": "https://localhost:8080/"
        }
      },
      "source": [
        "# !ls \"/content/drive/My Drive/MusgraveTextureNeuralRenderer/GeneratorDictionaries/\" | grep \".*pkl\""
      ],
      "execution_count": 11,
      "outputs": [
        {
          "output_type": "stream",
          "text": [
            "out.pkl\n"
          ],
          "name": "stdout"
        }
      ]
    },
    {
      "cell_type": "code",
      "metadata": {
        "id": "VJI1GqtKp-kI",
        "outputId": "5cd27b68-f78f-499c-ae02-eefc0a652f77",
        "colab": {
          "base_uri": "https://localhost:8080/"
        }
      },
      "source": [
        "# !ls \"/content/drive/My Drive/*/\" | wc -l"
      ],
      "execution_count": 10,
      "outputs": [
        {
          "output_type": "stream",
          "text": [
            "ls: cannot access '/content/drive/My Drive/*/': No such file or directory\n",
            "0\n"
          ],
          "name": "stdout"
        }
      ]
    },
    {
      "cell_type": "code",
      "metadata": {
        "id": "0w0JVrA5eAld"
      },
      "source": [
        "class MusgraveDataset(Dataset):\n",
        "    def __init__(self,transforms):\n",
        "        with open(\"/content/drive/My Drive/MusgraveTextureNeuralRenderer/GeneratorDictionaries/out.pkl\",\"rb\") as f:\n",
        "            self.l = (pickle.load(f))\n",
        "        self.transforms = transforms\n",
        "    def __getitem__(self, index):\n",
        "        # print(index)\n",
        "        l = self.l\n",
        "        file_name = l[index][\"name\"]\n",
        "        file_name = \"/content/drive/My Drive/MusgraveTextureNeuralRenderer/GeneratorDictionaries/\"+file_name\n",
        "        img = Image.open(file_name)\n",
        "        # img = cv2.imread(file_name)\n",
        "        # img = np.transpose(img,(2,0,1))\n",
        "        # transforms.Compose([\n",
        "            \n",
        "        # ])\n",
        "        return ((self.transforms(img),torch.Tensor(l[index][\"values\"])))\n",
        "    \n",
        "    def __len__(self):\n",
        "        return len(self.l)"
      ],
      "execution_count": 8,
      "outputs": []
    },
    {
      "cell_type": "code",
      "metadata": {
        "id": "InkoI-cwfWVF"
      },
      "source": [
        "# !ls \"./drive/My Drive/MusgraveTextureNeuralRenderer/Generator/*.pkl\""
      ],
      "execution_count": null,
      "outputs": []
    },
    {
      "cell_type": "code",
      "metadata": {
        "id": "yigcll-ffCnM"
      },
      "source": [
        "# import pickle\n",
        "# with open(\"./drive/My Drive/MusgraveTextureNeuralRenderer/out.pkl\",\"rb\") as f:\n",
        "#     l = (pickle.load(f))"
      ],
      "execution_count": null,
      "outputs": []
    },
    {
      "cell_type": "code",
      "metadata": {
        "id": "dUJVV21ThzhQ"
      },
      "source": [
        "transform = transforms.Compose([torchvision.transforms.Resize((224,224)),transforms.ToTensor()])\n",
        "train = MusgraveDataset(transforms = transform)\n",
        "train_loader = DataLoader(dataset=train, batch_size=10, shuffle=True, num_workers=2)"
      ],
      "execution_count": 9,
      "outputs": []
    },
    {
      "cell_type": "code",
      "metadata": {
        "id": "-TTIepeJzXdd",
        "outputId": "588e0060-0dfb-4518-cc99-ef46dede53e3",
        "colab": {
          "base_uri": "https://localhost:8080/"
        }
      },
      "source": [
        "# train[0][0].shape"
      ],
      "execution_count": 28,
      "outputs": [
        {
          "output_type": "execute_result",
          "data": {
            "text/plain": [
              "torch.Size([3, 224, 224])"
            ]
          },
          "metadata": {
            "tags": []
          },
          "execution_count": 28
        }
      ]
    },
    {
      "cell_type": "code",
      "metadata": {
        "id": "80q8RknajNTE"
      },
      "source": [
        "import torch.optim as optim\n",
        "\n",
        "# criterion = nn.MSELoss(reduction='sum')\n",
        "criterion = nn.L1Loss()\n",
        "optimizer = optim.Adam(net.parameters(), lr=0.0001)\n",
        "\n",
        "# optimizer = optim.SGD(render.parameters(), lr=0.001, momentum=0.9)"
      ],
      "execution_count": 10,
      "outputs": []
    },
    {
      "cell_type": "code",
      "metadata": {
        "id": "RcVGaeZGmRZ4"
      },
      "source": [
        "def show(img):\n",
        "    img = img.detach().cpu().numpy()[0]\n",
        "    img  = np.transpose(img,(1,2,0))\n",
        "    print(img.shape)\n",
        "    cv2_imshow(img)"
      ],
      "execution_count": 17,
      "outputs": []
    },
    {
      "cell_type": "code",
      "metadata": {
        "id": "HdU9WCpiWdo5"
      },
      "source": [
        "# train.l"
      ],
      "execution_count": null,
      "outputs": []
    },
    {
      "cell_type": "code",
      "metadata": {
        "id": "-LtX13yDbmFl"
      },
      "source": [
        "# inputs.shape"
      ],
      "execution_count": null,
      "outputs": []
    },
    {
      "cell_type": "code",
      "metadata": {
        "id": "1mHpqn75gpEA",
        "outputId": "ea9a1168-de7d-454a-cb08-a5ab9c544c39",
        "colab": {
          "base_uri": "https://localhost:8080/"
        }
      },
      "source": [
        "loss_n = None\n",
        "for epoch in range(3):\n",
        "    for i,data in enumerate(train_loader):\n",
        "        inputs, labels = data[0].cuda(),data[1].cuda()\n",
        "        labels[:,0]/=12\n",
        "        labels[:,1]/=16\n",
        "        labels[:,2]/=4\n",
        "        labels[:,3]/=3\n",
        "        # labels/=255\n",
        "        optimizer.zero_grad()\n",
        "        \n",
        "        output = net(inputs)\n",
        "        \n",
        "        loss = criterion(output, labels)\n",
        "        try:\n",
        "            loss_n+=loss\n",
        "        except:\n",
        "            loss_n = loss\n",
        "        \n",
        "        if(i%10==9):\n",
        "            loss_n.backward()\n",
        "            optimizer.step()\n",
        "            # print(loss.item())\n",
        "            print(\"Epoch:- %d Loss:- %0.5f i: %d\"%(epoch,loss_n.item()/10,i))\n",
        "            # print(output,inputs)\n",
        "            loss_n = None\n",
        "        \n",
        "        "
      ],
      "execution_count": 11,
      "outputs": [
        {
          "output_type": "stream",
          "text": [
            "Epoch:- 0 Loss:- 0.49121 i: 9\n",
            "Epoch:- 0 Loss:- 0.42338 i: 19\n",
            "Epoch:- 0 Loss:- 0.38766 i: 29\n",
            "Epoch:- 0 Loss:- 0.33608 i: 39\n",
            "Epoch:- 0 Loss:- 0.31329 i: 49\n",
            "Epoch:- 0 Loss:- 0.28361 i: 59\n",
            "Epoch:- 0 Loss:- 0.25450 i: 69\n",
            "Epoch:- 0 Loss:- 0.24168 i: 79\n",
            "Epoch:- 0 Loss:- 0.24739 i: 89\n",
            "Epoch:- 0 Loss:- 0.22522 i: 99\n",
            "Epoch:- 0 Loss:- 0.21061 i: 109\n",
            "Epoch:- 0 Loss:- 0.23356 i: 119\n",
            "Epoch:- 0 Loss:- 0.20752 i: 129\n",
            "Epoch:- 0 Loss:- 0.22359 i: 139\n",
            "Epoch:- 0 Loss:- 0.21530 i: 149\n",
            "Epoch:- 0 Loss:- 0.20745 i: 159\n",
            "Epoch:- 0 Loss:- 0.20610 i: 169\n",
            "Epoch:- 0 Loss:- 0.21721 i: 179\n",
            "Epoch:- 0 Loss:- 0.20480 i: 189\n",
            "Epoch:- 0 Loss:- 0.20825 i: 199\n",
            "Epoch:- 0 Loss:- 0.19272 i: 209\n",
            "Epoch:- 0 Loss:- 0.19495 i: 219\n",
            "Epoch:- 0 Loss:- 0.20270 i: 229\n",
            "Epoch:- 0 Loss:- 0.19499 i: 239\n",
            "Epoch:- 0 Loss:- 0.20895 i: 249\n",
            "Epoch:- 0 Loss:- 0.17998 i: 259\n",
            "Epoch:- 0 Loss:- 0.20747 i: 269\n",
            "Epoch:- 0 Loss:- 0.19681 i: 279\n",
            "Epoch:- 0 Loss:- 0.19558 i: 289\n",
            "Epoch:- 0 Loss:- 0.19280 i: 299\n",
            "Epoch:- 0 Loss:- 0.18277 i: 309\n",
            "Epoch:- 0 Loss:- 0.17206 i: 319\n",
            "Epoch:- 0 Loss:- 0.17295 i: 329\n",
            "Epoch:- 0 Loss:- 0.18428 i: 339\n",
            "Epoch:- 0 Loss:- 0.17540 i: 349\n",
            "Epoch:- 0 Loss:- 0.17813 i: 359\n",
            "Epoch:- 0 Loss:- 0.16712 i: 369\n",
            "Epoch:- 0 Loss:- 0.18054 i: 379\n",
            "Epoch:- 0 Loss:- 0.16943 i: 389\n",
            "Epoch:- 0 Loss:- 0.18614 i: 399\n",
            "Epoch:- 0 Loss:- 0.18369 i: 409\n",
            "Epoch:- 0 Loss:- 0.17602 i: 419\n",
            "Epoch:- 0 Loss:- 0.16115 i: 429\n",
            "Epoch:- 0 Loss:- 0.16208 i: 439\n",
            "Epoch:- 0 Loss:- 0.15990 i: 449\n",
            "Epoch:- 0 Loss:- 0.16116 i: 459\n",
            "Epoch:- 0 Loss:- 0.18086 i: 469\n",
            "Epoch:- 0 Loss:- 0.19479 i: 479\n",
            "Epoch:- 0 Loss:- 0.16119 i: 489\n",
            "Epoch:- 0 Loss:- 0.16810 i: 499\n",
            "Epoch:- 0 Loss:- 0.16964 i: 509\n",
            "Epoch:- 0 Loss:- 0.16580 i: 519\n",
            "Epoch:- 0 Loss:- 0.17349 i: 529\n",
            "Epoch:- 0 Loss:- 0.17757 i: 539\n",
            "Epoch:- 0 Loss:- 0.17141 i: 549\n",
            "Epoch:- 0 Loss:- 0.18115 i: 559\n",
            "Epoch:- 0 Loss:- 0.17602 i: 569\n",
            "Epoch:- 0 Loss:- 0.17080 i: 579\n",
            "Epoch:- 0 Loss:- 0.16689 i: 589\n",
            "Epoch:- 0 Loss:- 0.17035 i: 599\n",
            "Epoch:- 0 Loss:- 0.17215 i: 609\n",
            "Epoch:- 0 Loss:- 0.17411 i: 619\n",
            "Epoch:- 0 Loss:- 0.16442 i: 629\n",
            "Epoch:- 0 Loss:- 0.16589 i: 639\n",
            "Epoch:- 0 Loss:- 0.17286 i: 649\n",
            "Epoch:- 0 Loss:- 0.16969 i: 659\n",
            "Epoch:- 0 Loss:- 0.15546 i: 669\n",
            "Epoch:- 0 Loss:- 0.17310 i: 679\n",
            "Epoch:- 0 Loss:- 0.15864 i: 689\n",
            "Epoch:- 0 Loss:- 0.16096 i: 699\n",
            "Epoch:- 0 Loss:- 0.15951 i: 709\n",
            "Epoch:- 0 Loss:- 0.17690 i: 719\n",
            "Epoch:- 0 Loss:- 0.16644 i: 729\n",
            "Epoch:- 0 Loss:- 0.17088 i: 739\n",
            "Epoch:- 0 Loss:- 0.15600 i: 749\n",
            "Epoch:- 0 Loss:- 0.17132 i: 759\n",
            "Epoch:- 0 Loss:- 0.17654 i: 769\n",
            "Epoch:- 0 Loss:- 0.16887 i: 779\n",
            "Epoch:- 0 Loss:- 0.16365 i: 789\n",
            "Epoch:- 0 Loss:- 0.16437 i: 799\n",
            "Epoch:- 0 Loss:- 0.15925 i: 809\n",
            "Epoch:- 0 Loss:- 0.16183 i: 819\n",
            "Epoch:- 0 Loss:- 0.16185 i: 829\n",
            "Epoch:- 0 Loss:- 0.14663 i: 839\n",
            "Epoch:- 0 Loss:- 0.15776 i: 849\n",
            "Epoch:- 0 Loss:- 0.14423 i: 859\n",
            "Epoch:- 0 Loss:- 0.16541 i: 869\n",
            "Epoch:- 0 Loss:- 0.14809 i: 879\n",
            "Epoch:- 0 Loss:- 0.16372 i: 889\n",
            "Epoch:- 0 Loss:- 0.16265 i: 899\n",
            "Epoch:- 0 Loss:- 0.15429 i: 909\n",
            "Epoch:- 0 Loss:- 0.16090 i: 919\n",
            "Epoch:- 0 Loss:- 0.16152 i: 929\n",
            "Epoch:- 0 Loss:- 0.15470 i: 939\n",
            "Epoch:- 0 Loss:- 0.14329 i: 949\n",
            "Epoch:- 0 Loss:- 0.16136 i: 959\n",
            "Epoch:- 0 Loss:- 0.17506 i: 969\n",
            "Epoch:- 0 Loss:- 0.15706 i: 979\n",
            "Epoch:- 0 Loss:- 0.15773 i: 989\n",
            "Epoch:- 0 Loss:- 0.15230 i: 999\n",
            "Epoch:- 1 Loss:- 0.15462 i: 9\n",
            "Epoch:- 1 Loss:- 0.16543 i: 19\n",
            "Epoch:- 1 Loss:- 0.15736 i: 29\n",
            "Epoch:- 1 Loss:- 0.14886 i: 39\n",
            "Epoch:- 1 Loss:- 0.15141 i: 49\n",
            "Epoch:- 1 Loss:- 0.16334 i: 59\n",
            "Epoch:- 1 Loss:- 0.14967 i: 69\n",
            "Epoch:- 1 Loss:- 0.15880 i: 79\n",
            "Epoch:- 1 Loss:- 0.14686 i: 89\n",
            "Epoch:- 1 Loss:- 0.15253 i: 99\n",
            "Epoch:- 1 Loss:- 0.14947 i: 109\n",
            "Epoch:- 1 Loss:- 0.14828 i: 119\n",
            "Epoch:- 1 Loss:- 0.15578 i: 129\n",
            "Epoch:- 1 Loss:- 0.15135 i: 139\n",
            "Epoch:- 1 Loss:- 0.16022 i: 149\n",
            "Epoch:- 1 Loss:- 0.15294 i: 159\n",
            "Epoch:- 1 Loss:- 0.15141 i: 169\n",
            "Epoch:- 1 Loss:- 0.15740 i: 179\n",
            "Epoch:- 1 Loss:- 0.15448 i: 189\n",
            "Epoch:- 1 Loss:- 0.15326 i: 199\n",
            "Epoch:- 1 Loss:- 0.15931 i: 209\n",
            "Epoch:- 1 Loss:- 0.14616 i: 219\n",
            "Epoch:- 1 Loss:- 0.15873 i: 229\n",
            "Epoch:- 1 Loss:- 0.15967 i: 239\n",
            "Epoch:- 1 Loss:- 0.14885 i: 249\n",
            "Epoch:- 1 Loss:- 0.15795 i: 259\n",
            "Epoch:- 1 Loss:- 0.15796 i: 269\n",
            "Epoch:- 1 Loss:- 0.14396 i: 279\n",
            "Epoch:- 1 Loss:- 0.15272 i: 289\n",
            "Epoch:- 1 Loss:- 0.14302 i: 299\n",
            "Epoch:- 1 Loss:- 0.15478 i: 309\n",
            "Epoch:- 1 Loss:- 0.15339 i: 319\n",
            "Epoch:- 1 Loss:- 0.16172 i: 329\n",
            "Epoch:- 1 Loss:- 0.14095 i: 339\n",
            "Epoch:- 1 Loss:- 0.15990 i: 349\n",
            "Epoch:- 1 Loss:- 0.14308 i: 359\n",
            "Epoch:- 1 Loss:- 0.16183 i: 369\n",
            "Epoch:- 1 Loss:- 0.14676 i: 379\n",
            "Epoch:- 1 Loss:- 0.14828 i: 389\n",
            "Epoch:- 1 Loss:- 0.15610 i: 399\n",
            "Epoch:- 1 Loss:- 0.14042 i: 409\n",
            "Epoch:- 1 Loss:- 0.16114 i: 419\n",
            "Epoch:- 1 Loss:- 0.16576 i: 429\n",
            "Epoch:- 1 Loss:- 0.14451 i: 439\n",
            "Epoch:- 1 Loss:- 0.14731 i: 449\n",
            "Epoch:- 1 Loss:- 0.15286 i: 459\n",
            "Epoch:- 1 Loss:- 0.15052 i: 469\n",
            "Epoch:- 1 Loss:- 0.14122 i: 479\n",
            "Epoch:- 1 Loss:- 0.14173 i: 489\n",
            "Epoch:- 1 Loss:- 0.16040 i: 499\n",
            "Epoch:- 1 Loss:- 0.16738 i: 509\n",
            "Epoch:- 1 Loss:- 0.15601 i: 519\n",
            "Epoch:- 1 Loss:- 0.13941 i: 529\n",
            "Epoch:- 1 Loss:- 0.14983 i: 539\n",
            "Epoch:- 1 Loss:- 0.14132 i: 549\n",
            "Epoch:- 1 Loss:- 0.15524 i: 559\n",
            "Epoch:- 1 Loss:- 0.15700 i: 569\n",
            "Epoch:- 1 Loss:- 0.14973 i: 579\n",
            "Epoch:- 1 Loss:- 0.15927 i: 589\n",
            "Epoch:- 1 Loss:- 0.15338 i: 599\n",
            "Epoch:- 1 Loss:- 0.14997 i: 609\n",
            "Epoch:- 1 Loss:- 0.14202 i: 619\n",
            "Epoch:- 1 Loss:- 0.14331 i: 629\n",
            "Epoch:- 1 Loss:- 0.13610 i: 639\n",
            "Epoch:- 1 Loss:- 0.14661 i: 649\n",
            "Epoch:- 1 Loss:- 0.15013 i: 659\n",
            "Epoch:- 1 Loss:- 0.13778 i: 669\n",
            "Epoch:- 1 Loss:- 0.16013 i: 679\n",
            "Epoch:- 1 Loss:- 0.15196 i: 689\n",
            "Epoch:- 1 Loss:- 0.15576 i: 699\n",
            "Epoch:- 1 Loss:- 0.15638 i: 709\n",
            "Epoch:- 1 Loss:- 0.15822 i: 719\n",
            "Epoch:- 1 Loss:- 0.15605 i: 729\n",
            "Epoch:- 1 Loss:- 0.15418 i: 739\n",
            "Epoch:- 1 Loss:- 0.16002 i: 749\n",
            "Epoch:- 1 Loss:- 0.15196 i: 759\n",
            "Epoch:- 1 Loss:- 0.14635 i: 769\n",
            "Epoch:- 1 Loss:- 0.13502 i: 779\n",
            "Epoch:- 1 Loss:- 0.14799 i: 789\n",
            "Epoch:- 1 Loss:- 0.15066 i: 799\n",
            "Epoch:- 1 Loss:- 0.14851 i: 809\n",
            "Epoch:- 1 Loss:- 0.15477 i: 819\n",
            "Epoch:- 1 Loss:- 0.14708 i: 829\n",
            "Epoch:- 1 Loss:- 0.13936 i: 839\n",
            "Epoch:- 1 Loss:- 0.14657 i: 849\n",
            "Epoch:- 1 Loss:- 0.14412 i: 859\n",
            "Epoch:- 1 Loss:- 0.14493 i: 869\n",
            "Epoch:- 1 Loss:- 0.14507 i: 879\n",
            "Epoch:- 1 Loss:- 0.15258 i: 889\n",
            "Epoch:- 1 Loss:- 0.14822 i: 899\n",
            "Epoch:- 1 Loss:- 0.14613 i: 909\n",
            "Epoch:- 1 Loss:- 0.15228 i: 919\n",
            "Epoch:- 1 Loss:- 0.14399 i: 929\n",
            "Epoch:- 1 Loss:- 0.16226 i: 939\n",
            "Epoch:- 1 Loss:- 0.15217 i: 949\n",
            "Epoch:- 1 Loss:- 0.14583 i: 959\n",
            "Epoch:- 1 Loss:- 0.14400 i: 969\n",
            "Epoch:- 1 Loss:- 0.14185 i: 979\n",
            "Epoch:- 1 Loss:- 0.14918 i: 989\n",
            "Epoch:- 1 Loss:- 0.14161 i: 999\n",
            "Epoch:- 2 Loss:- 0.13191 i: 9\n",
            "Epoch:- 2 Loss:- 0.13994 i: 19\n",
            "Epoch:- 2 Loss:- 0.15483 i: 29\n",
            "Epoch:- 2 Loss:- 0.15235 i: 39\n",
            "Epoch:- 2 Loss:- 0.15575 i: 49\n",
            "Epoch:- 2 Loss:- 0.13347 i: 59\n",
            "Epoch:- 2 Loss:- 0.14112 i: 69\n",
            "Epoch:- 2 Loss:- 0.15726 i: 79\n",
            "Epoch:- 2 Loss:- 0.15324 i: 89\n",
            "Epoch:- 2 Loss:- 0.14532 i: 99\n",
            "Epoch:- 2 Loss:- 0.15322 i: 109\n",
            "Epoch:- 2 Loss:- 0.14484 i: 119\n",
            "Epoch:- 2 Loss:- 0.15254 i: 129\n",
            "Epoch:- 2 Loss:- 0.15388 i: 139\n",
            "Epoch:- 2 Loss:- 0.14634 i: 149\n",
            "Epoch:- 2 Loss:- 0.14994 i: 159\n",
            "Epoch:- 2 Loss:- 0.14821 i: 169\n",
            "Epoch:- 2 Loss:- 0.15438 i: 179\n",
            "Epoch:- 2 Loss:- 0.13917 i: 189\n",
            "Epoch:- 2 Loss:- 0.15544 i: 199\n",
            "Epoch:- 2 Loss:- 0.13529 i: 209\n",
            "Epoch:- 2 Loss:- 0.14596 i: 219\n",
            "Epoch:- 2 Loss:- 0.14244 i: 229\n",
            "Epoch:- 2 Loss:- 0.14839 i: 239\n",
            "Epoch:- 2 Loss:- 0.15764 i: 249\n",
            "Epoch:- 2 Loss:- 0.14314 i: 259\n",
            "Epoch:- 2 Loss:- 0.14087 i: 269\n",
            "Epoch:- 2 Loss:- 0.14246 i: 279\n",
            "Epoch:- 2 Loss:- 0.13280 i: 289\n",
            "Epoch:- 2 Loss:- 0.13426 i: 299\n",
            "Epoch:- 2 Loss:- 0.15189 i: 309\n",
            "Epoch:- 2 Loss:- 0.13578 i: 319\n",
            "Epoch:- 2 Loss:- 0.14425 i: 329\n",
            "Epoch:- 2 Loss:- 0.13518 i: 339\n",
            "Epoch:- 2 Loss:- 0.15352 i: 349\n",
            "Epoch:- 2 Loss:- 0.13795 i: 359\n",
            "Epoch:- 2 Loss:- 0.13627 i: 369\n",
            "Epoch:- 2 Loss:- 0.15096 i: 379\n",
            "Epoch:- 2 Loss:- 0.13882 i: 389\n",
            "Epoch:- 2 Loss:- 0.13151 i: 399\n",
            "Epoch:- 2 Loss:- 0.14553 i: 409\n",
            "Epoch:- 2 Loss:- 0.15078 i: 419\n",
            "Epoch:- 2 Loss:- 0.14531 i: 429\n",
            "Epoch:- 2 Loss:- 0.13732 i: 439\n",
            "Epoch:- 2 Loss:- 0.14774 i: 449\n",
            "Epoch:- 2 Loss:- 0.14933 i: 459\n",
            "Epoch:- 2 Loss:- 0.13776 i: 469\n",
            "Epoch:- 2 Loss:- 0.14780 i: 479\n",
            "Epoch:- 2 Loss:- 0.15749 i: 489\n",
            "Epoch:- 2 Loss:- 0.13648 i: 499\n",
            "Epoch:- 2 Loss:- 0.14187 i: 509\n",
            "Epoch:- 2 Loss:- 0.13453 i: 519\n",
            "Epoch:- 2 Loss:- 0.14248 i: 529\n",
            "Epoch:- 2 Loss:- 0.14335 i: 539\n",
            "Epoch:- 2 Loss:- 0.13209 i: 549\n",
            "Epoch:- 2 Loss:- 0.13970 i: 559\n",
            "Epoch:- 2 Loss:- 0.14582 i: 569\n",
            "Epoch:- 2 Loss:- 0.14544 i: 579\n",
            "Epoch:- 2 Loss:- 0.14205 i: 589\n",
            "Epoch:- 2 Loss:- 0.14681 i: 599\n",
            "Epoch:- 2 Loss:- 0.13714 i: 609\n",
            "Epoch:- 2 Loss:- 0.14328 i: 619\n",
            "Epoch:- 2 Loss:- 0.13034 i: 629\n",
            "Epoch:- 2 Loss:- 0.14313 i: 639\n",
            "Epoch:- 2 Loss:- 0.14785 i: 649\n",
            "Epoch:- 2 Loss:- 0.15455 i: 659\n",
            "Epoch:- 2 Loss:- 0.13798 i: 669\n",
            "Epoch:- 2 Loss:- 0.13810 i: 679\n",
            "Epoch:- 2 Loss:- 0.15465 i: 689\n",
            "Epoch:- 2 Loss:- 0.14107 i: 699\n",
            "Epoch:- 2 Loss:- 0.14318 i: 709\n",
            "Epoch:- 2 Loss:- 0.13300 i: 719\n",
            "Epoch:- 2 Loss:- 0.13677 i: 729\n",
            "Epoch:- 2 Loss:- 0.15348 i: 739\n",
            "Epoch:- 2 Loss:- 0.15193 i: 749\n",
            "Epoch:- 2 Loss:- 0.13941 i: 759\n",
            "Epoch:- 2 Loss:- 0.12472 i: 769\n",
            "Epoch:- 2 Loss:- 0.14121 i: 779\n",
            "Epoch:- 2 Loss:- 0.14193 i: 789\n",
            "Epoch:- 2 Loss:- 0.14863 i: 799\n",
            "Epoch:- 2 Loss:- 0.14267 i: 809\n",
            "Epoch:- 2 Loss:- 0.14348 i: 819\n",
            "Epoch:- 2 Loss:- 0.13899 i: 829\n",
            "Epoch:- 2 Loss:- 0.14224 i: 839\n",
            "Epoch:- 2 Loss:- 0.12850 i: 849\n",
            "Epoch:- 2 Loss:- 0.13422 i: 859\n",
            "Epoch:- 2 Loss:- 0.13968 i: 869\n",
            "Epoch:- 2 Loss:- 0.13151 i: 879\n",
            "Epoch:- 2 Loss:- 0.14176 i: 889\n",
            "Epoch:- 2 Loss:- 0.13629 i: 899\n",
            "Epoch:- 2 Loss:- 0.14029 i: 909\n",
            "Epoch:- 2 Loss:- 0.13871 i: 919\n",
            "Epoch:- 2 Loss:- 0.14473 i: 929\n",
            "Epoch:- 2 Loss:- 0.13225 i: 939\n",
            "Epoch:- 2 Loss:- 0.14317 i: 949\n",
            "Epoch:- 2 Loss:- 0.13625 i: 959\n",
            "Epoch:- 2 Loss:- 0.13999 i: 969\n",
            "Epoch:- 2 Loss:- 0.14626 i: 979\n",
            "Epoch:- 2 Loss:- 0.14253 i: 989\n",
            "Epoch:- 2 Loss:- 0.13869 i: 999\n"
          ],
          "name": "stdout"
        }
      ]
    },
    {
      "cell_type": "code",
      "metadata": {
        "id": "Q5JVUXIw5DSB",
        "outputId": "9a7f38f1-a37e-4441-a03a-a67fc9c313fa",
        "colab": {
          "base_uri": "https://localhost:8080/"
        }
      },
      "source": [
        "print(\"Epoch:- %d Loss:- %0.3f i: %d\"%(epoch,loss_n.item()/10,i))"
      ],
      "execution_count": 17,
      "outputs": [
        {
          "output_type": "stream",
          "text": [
            "Epoch:- 0 Loss:- 0.178 i: 13\n"
          ],
          "name": "stdout"
        }
      ]
    },
    {
      "cell_type": "code",
      "metadata": {
        "id": "jL0-LvbzxYlg"
      },
      "source": [
        "torch.save(net, \"/content/drive/My Drive/MusgraveTextureNeuralRenderer/model3.pth\")"
      ],
      "execution_count": 12,
      "outputs": []
    },
    {
      "cell_type": "code",
      "metadata": {
        "id": "qTvVKHYHsNUM",
        "outputId": "953e1ed3-9a20-4aad-9b12-3c09934b24db",
        "colab": {
          "base_uri": "https://localhost:8080/"
        }
      },
      "source": [
        "output"
      ],
      "execution_count": 13,
      "outputs": [
        {
          "output_type": "execute_result",
          "data": {
            "text/plain": [
              "tensor([[ 5.0979e-01,  6.6193e-01,  9.2161e-01,  5.8289e-01],\n",
              "        [ 4.2071e-01,  5.3922e-01,  8.4729e-01,  9.7378e-01],\n",
              "        [ 4.5115e-01,  1.3823e-01,  6.7447e-01,  9.7169e-01],\n",
              "        [ 6.2531e-01,  4.7036e-01, -8.9519e-04,  5.0912e-01],\n",
              "        [ 4.1678e-01,  1.3556e-01,  8.3252e-01,  3.0861e-01],\n",
              "        [ 6.7195e-01,  1.4252e-01,  7.6647e-01, -2.2507e-03],\n",
              "        [ 4.9573e-01,  5.5175e-01,  4.8187e-01,  2.8703e-01],\n",
              "        [ 6.2531e-01,  4.7036e-01, -8.9519e-04,  5.0912e-01],\n",
              "        [ 6.2531e-01,  4.7036e-01, -8.9519e-04,  5.0912e-01],\n",
              "        [ 4.7158e-01,  4.2530e-01,  2.5933e-01,  4.2073e-01]], device='cuda:0',\n",
              "       grad_fn=<LeakyReluBackward0>)"
            ]
          },
          "metadata": {
            "tags": []
          },
          "execution_count": 13
        }
      ]
    },
    {
      "cell_type": "code",
      "metadata": {
        "id": "FuSf4UbDsOM8",
        "outputId": "314bc69a-0ca1-4d38-8639-24cb373e58f9",
        "colab": {
          "base_uri": "https://localhost:8080/"
        }
      },
      "source": [
        "labels"
      ],
      "execution_count": 14,
      "outputs": [
        {
          "output_type": "execute_result",
          "data": {
            "text/plain": [
              "tensor([[0.3333, 0.7500, 1.0000, 0.6667],\n",
              "        [1.0000, 0.5625, 1.0000, 1.0000],\n",
              "        [0.7500, 0.1875, 0.5000, 1.0000],\n",
              "        [0.9167, 0.0625, 0.0000, 1.0000],\n",
              "        [0.9167, 0.1875, 0.7500, 0.3333],\n",
              "        [0.5833, 0.1875, 0.7500, 0.0000],\n",
              "        [0.2500, 0.6250, 0.5000, 0.3333],\n",
              "        [0.1667, 0.8750, 0.0000, 1.0000],\n",
              "        [0.7500, 0.8750, 0.0000, 1.0000],\n",
              "        [0.2500, 0.4375, 0.2500, 0.0000]], device='cuda:0')"
            ]
          },
          "metadata": {
            "tags": []
          },
          "execution_count": 14
        }
      ]
    },
    {
      "cell_type": "code",
      "metadata": {
        "id": "kkF5yrSlIiKH"
      },
      "source": [
        "torch.save(render.state_dict(), \"./drive/My Drive/Skin Cancer/RenderResNet.pth\")"
      ],
      "execution_count": null,
      "outputs": []
    },
    {
      "cell_type": "code",
      "metadata": {
        "id": "P0GuqPz7TIXQ"
      },
      "source": [
        "torch.save(render.state_dict(), \"./drive/My Drive/Skin Cancer/AlexNet.pth\")"
      ],
      "execution_count": null,
      "outputs": []
    },
    {
      "cell_type": "code",
      "metadata": {
        "id": "LgKnNNeco-ho"
      },
      "source": [
        "def norm(out):\n",
        "    out-=out.mean()\n",
        "    out/=out.max()\n",
        "    return out"
      ],
      "execution_count": null,
      "outputs": []
    },
    {
      "cell_type": "code",
      "metadata": {
        "id": "DzCS7ZH8os6c",
        "outputId": "72069b47-1802-4a6c-ce2a-c0e0a9b54f46",
        "colab": {
          "base_uri": "https://localhost:8080/",
          "height": 34
        }
      },
      "source": [
        "inputs.shape,output.shape"
      ],
      "execution_count": null,
      "outputs": [
        {
          "output_type": "execute_result",
          "data": {
            "text/plain": [
              "(torch.Size([4, 4]), torch.Size([4, 1000]))"
            ]
          },
          "metadata": {
            "tags": []
          },
          "execution_count": 92
        }
      ]
    },
    {
      "cell_type": "code",
      "metadata": {
        "id": "w07beL7GdF6N"
      },
      "source": [
        "NetEpochs = 10000\n",
        "start, stop, step = 7,10,1\n",
        "Dataset = [x for x in range(1000)]\n",
        "# Dataset = [0,1]\n",
        "# Dataset = [0]\n",
        "done = False\n",
        "for data in Dataset:\n",
        "  \n",
        "  tdata = torch.Tensor([p]).cuda()\n",
        "  X = model(tdata)\n",
        "  # print(X)t\n",
        "  X_CNN = cnn(X)\n",
        "  # X = X*(255/X.mean())\n",
        "\n",
        "  X_CNN2 = cnn2(X)\n",
        "  \n",
        "  img = process_image(X)\n",
        "  # print(data,end=\" \")\n",
        "  # print(\"[ AlexNet \"+str(dat[int(torch.argmax(X_CNN).detach().cpu().numpy())]),end=\"] \")\n",
        "  # print(\"[ ResNet \"+str(dat[int(torch.argmax(X_CNN2).detach().cpu().numpy())]),end=\"]\")\n",
        "  \n",
        "  # cv2_imshow(img)\n",
        "  cv2.imwrite(\"dog.jpg\",img)\n",
        "  os.system(\"python gradcam.py --image-path=dog.jpg --use-cuda\")\n",
        "  cp(data)\n",
        "  updateJson(data,X_CNN,X_CNN2)\n",
        "  if((data%10)==0):\n",
        "    print(data)\n",
        "  # break\n",
        "  # imgR = cv2.imread(\"cam.jpg\")\n",
        "  # cv2_imshow(imgR)\n"
      ],
      "execution_count": null,
      "outputs": []
    },
    {
      "cell_type": "markdown",
      "metadata": {
        "id": "DKX2N_exdFp-"
      },
      "source": [
        ""
      ]
    }
  ]
}