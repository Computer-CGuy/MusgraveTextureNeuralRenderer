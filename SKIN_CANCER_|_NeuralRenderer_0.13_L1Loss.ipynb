{
  "nbformat": 4,
  "nbformat_minor": 0,
  "metadata": {
    "colab": {
      "name": "SKIN CANCER | NeuralRenderer.ipynb",
      "provenance": [],
      "collapsed_sections": [],
      "mount_file_id": "1UMo0pAtHlbaAXAhqtTor8kFqaW3MUkR3",
      "authorship_tag": "ABX9TyNS2eYXjg2ecMto+6Kncqp4",
      "include_colab_link": true
    },
    "kernelspec": {
      "name": "python3",
      "display_name": "Python 3"
    },
    "accelerator": "GPU",
    "widgets": {
      "application/vnd.jupyter.widget-state+json": {
        "cd5af627f5604f14984b5a900990f70a": {
          "model_module": "@jupyter-widgets/controls",
          "model_name": "HBoxModel",
          "state": {
            "_view_name": "HBoxView",
            "_dom_classes": [],
            "_model_name": "HBoxModel",
            "_view_module": "@jupyter-widgets/controls",
            "_model_module_version": "1.5.0",
            "_view_count": null,
            "_view_module_version": "1.5.0",
            "box_style": "",
            "layout": "IPY_MODEL_e2af63b42c59439d96ea3f2b9efdf1b4",
            "_model_module": "@jupyter-widgets/controls",
            "children": [
              "IPY_MODEL_0fb3148eb6c24dc58d9d4bbc8dc22208",
              "IPY_MODEL_390882ed3fc644369d0a7c61af4ef70a"
            ]
          }
        },
        "e2af63b42c59439d96ea3f2b9efdf1b4": {
          "model_module": "@jupyter-widgets/base",
          "model_name": "LayoutModel",
          "state": {
            "_view_name": "LayoutView",
            "grid_template_rows": null,
            "right": null,
            "justify_content": null,
            "_view_module": "@jupyter-widgets/base",
            "overflow": null,
            "_model_module_version": "1.2.0",
            "_view_count": null,
            "flex_flow": null,
            "width": null,
            "min_width": null,
            "border": null,
            "align_items": null,
            "bottom": null,
            "_model_module": "@jupyter-widgets/base",
            "top": null,
            "grid_column": null,
            "overflow_y": null,
            "overflow_x": null,
            "grid_auto_flow": null,
            "grid_area": null,
            "grid_template_columns": null,
            "flex": null,
            "_model_name": "LayoutModel",
            "justify_items": null,
            "grid_row": null,
            "max_height": null,
            "align_content": null,
            "visibility": null,
            "align_self": null,
            "height": null,
            "min_height": null,
            "padding": null,
            "grid_auto_rows": null,
            "grid_gap": null,
            "max_width": null,
            "order": null,
            "_view_module_version": "1.2.0",
            "grid_template_areas": null,
            "object_position": null,
            "object_fit": null,
            "grid_auto_columns": null,
            "margin": null,
            "display": null,
            "left": null
          }
        },
        "0fb3148eb6c24dc58d9d4bbc8dc22208": {
          "model_module": "@jupyter-widgets/controls",
          "model_name": "FloatProgressModel",
          "state": {
            "_view_name": "ProgressView",
            "style": "IPY_MODEL_00a825f25fa142fd8701f6d849875ccd",
            "_dom_classes": [],
            "description": "100%",
            "_model_name": "FloatProgressModel",
            "bar_style": "success",
            "max": 100441675,
            "_view_module": "@jupyter-widgets/controls",
            "_model_module_version": "1.5.0",
            "value": 100441675,
            "_view_count": null,
            "_view_module_version": "1.5.0",
            "orientation": "horizontal",
            "min": 0,
            "description_tooltip": null,
            "_model_module": "@jupyter-widgets/controls",
            "layout": "IPY_MODEL_91b32f7e6faa40f29727b01f69049d7a"
          }
        },
        "390882ed3fc644369d0a7c61af4ef70a": {
          "model_module": "@jupyter-widgets/controls",
          "model_name": "HTMLModel",
          "state": {
            "_view_name": "HTMLView",
            "style": "IPY_MODEL_4fa9713c4029489a91e406a5772aeddc",
            "_dom_classes": [],
            "description": "",
            "_model_name": "HTMLModel",
            "placeholder": "​",
            "_view_module": "@jupyter-widgets/controls",
            "_model_module_version": "1.5.0",
            "value": " 95.8M/95.8M [15:25&lt;00:00, 108kB/s]",
            "_view_count": null,
            "_view_module_version": "1.5.0",
            "description_tooltip": null,
            "_model_module": "@jupyter-widgets/controls",
            "layout": "IPY_MODEL_eebc362fd4bc4c448846149b403040f6"
          }
        },
        "00a825f25fa142fd8701f6d849875ccd": {
          "model_module": "@jupyter-widgets/controls",
          "model_name": "ProgressStyleModel",
          "state": {
            "_view_name": "StyleView",
            "_model_name": "ProgressStyleModel",
            "description_width": "initial",
            "_view_module": "@jupyter-widgets/base",
            "_model_module_version": "1.5.0",
            "_view_count": null,
            "_view_module_version": "1.2.0",
            "bar_color": null,
            "_model_module": "@jupyter-widgets/controls"
          }
        },
        "91b32f7e6faa40f29727b01f69049d7a": {
          "model_module": "@jupyter-widgets/base",
          "model_name": "LayoutModel",
          "state": {
            "_view_name": "LayoutView",
            "grid_template_rows": null,
            "right": null,
            "justify_content": null,
            "_view_module": "@jupyter-widgets/base",
            "overflow": null,
            "_model_module_version": "1.2.0",
            "_view_count": null,
            "flex_flow": null,
            "width": null,
            "min_width": null,
            "border": null,
            "align_items": null,
            "bottom": null,
            "_model_module": "@jupyter-widgets/base",
            "top": null,
            "grid_column": null,
            "overflow_y": null,
            "overflow_x": null,
            "grid_auto_flow": null,
            "grid_area": null,
            "grid_template_columns": null,
            "flex": null,
            "_model_name": "LayoutModel",
            "justify_items": null,
            "grid_row": null,
            "max_height": null,
            "align_content": null,
            "visibility": null,
            "align_self": null,
            "height": null,
            "min_height": null,
            "padding": null,
            "grid_auto_rows": null,
            "grid_gap": null,
            "max_width": null,
            "order": null,
            "_view_module_version": "1.2.0",
            "grid_template_areas": null,
            "object_position": null,
            "object_fit": null,
            "grid_auto_columns": null,
            "margin": null,
            "display": null,
            "left": null
          }
        },
        "4fa9713c4029489a91e406a5772aeddc": {
          "model_module": "@jupyter-widgets/controls",
          "model_name": "DescriptionStyleModel",
          "state": {
            "_view_name": "StyleView",
            "_model_name": "DescriptionStyleModel",
            "description_width": "",
            "_view_module": "@jupyter-widgets/base",
            "_model_module_version": "1.5.0",
            "_view_count": null,
            "_view_module_version": "1.2.0",
            "_model_module": "@jupyter-widgets/controls"
          }
        },
        "eebc362fd4bc4c448846149b403040f6": {
          "model_module": "@jupyter-widgets/base",
          "model_name": "LayoutModel",
          "state": {
            "_view_name": "LayoutView",
            "grid_template_rows": null,
            "right": null,
            "justify_content": null,
            "_view_module": "@jupyter-widgets/base",
            "overflow": null,
            "_model_module_version": "1.2.0",
            "_view_count": null,
            "flex_flow": null,
            "width": null,
            "min_width": null,
            "border": null,
            "align_items": null,
            "bottom": null,
            "_model_module": "@jupyter-widgets/base",
            "top": null,
            "grid_column": null,
            "overflow_y": null,
            "overflow_x": null,
            "grid_auto_flow": null,
            "grid_area": null,
            "grid_template_columns": null,
            "flex": null,
            "_model_name": "LayoutModel",
            "justify_items": null,
            "grid_row": null,
            "max_height": null,
            "align_content": null,
            "visibility": null,
            "align_self": null,
            "height": null,
            "min_height": null,
            "padding": null,
            "grid_auto_rows": null,
            "grid_gap": null,
            "max_width": null,
            "order": null,
            "_view_module_version": "1.2.0",
            "grid_template_areas": null,
            "object_position": null,
            "object_fit": null,
            "grid_auto_columns": null,
            "margin": null,
            "display": null,
            "left": null
          }
        }
      }
    }
  },
  "cells": [
    {
      "cell_type": "markdown",
      "metadata": {
        "id": "view-in-github",
        "colab_type": "text"
      },
      "source": [
        "<a href=\"https://colab.research.google.com/github/Computer-CGuy/MusgraveTextureNeuralRenderer/blob/models/SKIN_CANCER_%7C_NeuralRenderer_0.13_L1Loss.ipynb\" target=\"_parent\"><img src=\"https://colab.research.google.com/assets/colab-badge.svg\" alt=\"Open In Colab\"/></a>"
      ]
    },
    {
      "cell_type": "code",
      "metadata": {
        "id": "Y0oTfdm0cbKH"
      },
      "source": [
        "import torch  \n",
        "import matplotlib.pyplot as plt  \n",
        "import numpy as np  \n",
        "import torch.nn.functional as func\n",
        "import torch.nn.functional as F\n",
        "import PIL.ImageOps  \n",
        "from torch import nn  \n",
        "from torchvision import datasets,transforms   \n",
        "import requests  \n",
        "from PIL import Image  \n",
        "import torchvision.models as models\n",
        "import os\n",
        "import json\n",
        "from torch.utils.data import Dataset, DataLoader, Subset\n",
        "import cv2\n",
        "from google.colab.patches import cv2_imshow\n",
        "import torchvision\n",
        "import pickle"
      ],
      "execution_count": 1,
      "outputs": []
    },
    {
      "cell_type": "code",
      "metadata": {
        "id": "vPrZDKYpdF7Z",
        "outputId": "56f5f490-7ce0-4bde-fdb2-43b184375971",
        "colab": {
          "base_uri": "https://localhost:8080/",
          "height": 103,
          "referenced_widgets": [
            "cd5af627f5604f14984b5a900990f70a",
            "e2af63b42c59439d96ea3f2b9efdf1b4",
            "0fb3148eb6c24dc58d9d4bbc8dc22208",
            "390882ed3fc644369d0a7c61af4ef70a",
            "00a825f25fa142fd8701f6d849875ccd",
            "91b32f7e6faa40f29727b01f69049d7a",
            "4fa9713c4029489a91e406a5772aeddc",
            "eebc362fd4bc4c448846149b403040f6"
          ]
        }
      },
      "source": [
        "net = models.resnext50_32x4d(pretrained=True).cuda()"
      ],
      "execution_count": 2,
      "outputs": [
        {
          "output_type": "stream",
          "text": [
            "Downloading: \"https://download.pytorch.org/models/resnext50_32x4d-7cdf4587.pth\" to /root/.cache/torch/hub/checkpoints/resnext50_32x4d-7cdf4587.pth\n"
          ],
          "name": "stderr"
        },
        {
          "output_type": "display_data",
          "data": {
            "application/vnd.jupyter.widget-view+json": {
              "model_id": "cd5af627f5604f14984b5a900990f70a",
              "version_minor": 0,
              "version_major": 2
            },
            "text/plain": [
              "HBox(children=(FloatProgress(value=0.0, max=100441675.0), HTML(value='')))"
            ]
          },
          "metadata": {
            "tags": []
          }
        },
        {
          "output_type": "stream",
          "text": [
            "\n"
          ],
          "name": "stdout"
        }
      ]
    },
    {
      "cell_type": "code",
      "metadata": {
        "id": "TbWQ_ysQpIgF",
        "outputId": "7062715d-e4df-4e4a-d596-988d1776fb1d",
        "colab": {
          "base_uri": "https://localhost:8080/"
        }
      },
      "source": [
        "net"
      ],
      "execution_count": 3,
      "outputs": [
        {
          "output_type": "execute_result",
          "data": {
            "text/plain": [
              "ResNet(\n",
              "  (conv1): Conv2d(3, 64, kernel_size=(7, 7), stride=(2, 2), padding=(3, 3), bias=False)\n",
              "  (bn1): BatchNorm2d(64, eps=1e-05, momentum=0.1, affine=True, track_running_stats=True)\n",
              "  (relu): ReLU(inplace=True)\n",
              "  (maxpool): MaxPool2d(kernel_size=3, stride=2, padding=1, dilation=1, ceil_mode=False)\n",
              "  (layer1): Sequential(\n",
              "    (0): Bottleneck(\n",
              "      (conv1): Conv2d(64, 128, kernel_size=(1, 1), stride=(1, 1), bias=False)\n",
              "      (bn1): BatchNorm2d(128, eps=1e-05, momentum=0.1, affine=True, track_running_stats=True)\n",
              "      (conv2): Conv2d(128, 128, kernel_size=(3, 3), stride=(1, 1), padding=(1, 1), groups=32, bias=False)\n",
              "      (bn2): BatchNorm2d(128, eps=1e-05, momentum=0.1, affine=True, track_running_stats=True)\n",
              "      (conv3): Conv2d(128, 256, kernel_size=(1, 1), stride=(1, 1), bias=False)\n",
              "      (bn3): BatchNorm2d(256, eps=1e-05, momentum=0.1, affine=True, track_running_stats=True)\n",
              "      (relu): ReLU(inplace=True)\n",
              "      (downsample): Sequential(\n",
              "        (0): Conv2d(64, 256, kernel_size=(1, 1), stride=(1, 1), bias=False)\n",
              "        (1): BatchNorm2d(256, eps=1e-05, momentum=0.1, affine=True, track_running_stats=True)\n",
              "      )\n",
              "    )\n",
              "    (1): Bottleneck(\n",
              "      (conv1): Conv2d(256, 128, kernel_size=(1, 1), stride=(1, 1), bias=False)\n",
              "      (bn1): BatchNorm2d(128, eps=1e-05, momentum=0.1, affine=True, track_running_stats=True)\n",
              "      (conv2): Conv2d(128, 128, kernel_size=(3, 3), stride=(1, 1), padding=(1, 1), groups=32, bias=False)\n",
              "      (bn2): BatchNorm2d(128, eps=1e-05, momentum=0.1, affine=True, track_running_stats=True)\n",
              "      (conv3): Conv2d(128, 256, kernel_size=(1, 1), stride=(1, 1), bias=False)\n",
              "      (bn3): BatchNorm2d(256, eps=1e-05, momentum=0.1, affine=True, track_running_stats=True)\n",
              "      (relu): ReLU(inplace=True)\n",
              "    )\n",
              "    (2): Bottleneck(\n",
              "      (conv1): Conv2d(256, 128, kernel_size=(1, 1), stride=(1, 1), bias=False)\n",
              "      (bn1): BatchNorm2d(128, eps=1e-05, momentum=0.1, affine=True, track_running_stats=True)\n",
              "      (conv2): Conv2d(128, 128, kernel_size=(3, 3), stride=(1, 1), padding=(1, 1), groups=32, bias=False)\n",
              "      (bn2): BatchNorm2d(128, eps=1e-05, momentum=0.1, affine=True, track_running_stats=True)\n",
              "      (conv3): Conv2d(128, 256, kernel_size=(1, 1), stride=(1, 1), bias=False)\n",
              "      (bn3): BatchNorm2d(256, eps=1e-05, momentum=0.1, affine=True, track_running_stats=True)\n",
              "      (relu): ReLU(inplace=True)\n",
              "    )\n",
              "  )\n",
              "  (layer2): Sequential(\n",
              "    (0): Bottleneck(\n",
              "      (conv1): Conv2d(256, 256, kernel_size=(1, 1), stride=(1, 1), bias=False)\n",
              "      (bn1): BatchNorm2d(256, eps=1e-05, momentum=0.1, affine=True, track_running_stats=True)\n",
              "      (conv2): Conv2d(256, 256, kernel_size=(3, 3), stride=(2, 2), padding=(1, 1), groups=32, bias=False)\n",
              "      (bn2): BatchNorm2d(256, eps=1e-05, momentum=0.1, affine=True, track_running_stats=True)\n",
              "      (conv3): Conv2d(256, 512, kernel_size=(1, 1), stride=(1, 1), bias=False)\n",
              "      (bn3): BatchNorm2d(512, eps=1e-05, momentum=0.1, affine=True, track_running_stats=True)\n",
              "      (relu): ReLU(inplace=True)\n",
              "      (downsample): Sequential(\n",
              "        (0): Conv2d(256, 512, kernel_size=(1, 1), stride=(2, 2), bias=False)\n",
              "        (1): BatchNorm2d(512, eps=1e-05, momentum=0.1, affine=True, track_running_stats=True)\n",
              "      )\n",
              "    )\n",
              "    (1): Bottleneck(\n",
              "      (conv1): Conv2d(512, 256, kernel_size=(1, 1), stride=(1, 1), bias=False)\n",
              "      (bn1): BatchNorm2d(256, eps=1e-05, momentum=0.1, affine=True, track_running_stats=True)\n",
              "      (conv2): Conv2d(256, 256, kernel_size=(3, 3), stride=(1, 1), padding=(1, 1), groups=32, bias=False)\n",
              "      (bn2): BatchNorm2d(256, eps=1e-05, momentum=0.1, affine=True, track_running_stats=True)\n",
              "      (conv3): Conv2d(256, 512, kernel_size=(1, 1), stride=(1, 1), bias=False)\n",
              "      (bn3): BatchNorm2d(512, eps=1e-05, momentum=0.1, affine=True, track_running_stats=True)\n",
              "      (relu): ReLU(inplace=True)\n",
              "    )\n",
              "    (2): Bottleneck(\n",
              "      (conv1): Conv2d(512, 256, kernel_size=(1, 1), stride=(1, 1), bias=False)\n",
              "      (bn1): BatchNorm2d(256, eps=1e-05, momentum=0.1, affine=True, track_running_stats=True)\n",
              "      (conv2): Conv2d(256, 256, kernel_size=(3, 3), stride=(1, 1), padding=(1, 1), groups=32, bias=False)\n",
              "      (bn2): BatchNorm2d(256, eps=1e-05, momentum=0.1, affine=True, track_running_stats=True)\n",
              "      (conv3): Conv2d(256, 512, kernel_size=(1, 1), stride=(1, 1), bias=False)\n",
              "      (bn3): BatchNorm2d(512, eps=1e-05, momentum=0.1, affine=True, track_running_stats=True)\n",
              "      (relu): ReLU(inplace=True)\n",
              "    )\n",
              "    (3): Bottleneck(\n",
              "      (conv1): Conv2d(512, 256, kernel_size=(1, 1), stride=(1, 1), bias=False)\n",
              "      (bn1): BatchNorm2d(256, eps=1e-05, momentum=0.1, affine=True, track_running_stats=True)\n",
              "      (conv2): Conv2d(256, 256, kernel_size=(3, 3), stride=(1, 1), padding=(1, 1), groups=32, bias=False)\n",
              "      (bn2): BatchNorm2d(256, eps=1e-05, momentum=0.1, affine=True, track_running_stats=True)\n",
              "      (conv3): Conv2d(256, 512, kernel_size=(1, 1), stride=(1, 1), bias=False)\n",
              "      (bn3): BatchNorm2d(512, eps=1e-05, momentum=0.1, affine=True, track_running_stats=True)\n",
              "      (relu): ReLU(inplace=True)\n",
              "    )\n",
              "  )\n",
              "  (layer3): Sequential(\n",
              "    (0): Bottleneck(\n",
              "      (conv1): Conv2d(512, 512, kernel_size=(1, 1), stride=(1, 1), bias=False)\n",
              "      (bn1): BatchNorm2d(512, eps=1e-05, momentum=0.1, affine=True, track_running_stats=True)\n",
              "      (conv2): Conv2d(512, 512, kernel_size=(3, 3), stride=(2, 2), padding=(1, 1), groups=32, bias=False)\n",
              "      (bn2): BatchNorm2d(512, eps=1e-05, momentum=0.1, affine=True, track_running_stats=True)\n",
              "      (conv3): Conv2d(512, 1024, kernel_size=(1, 1), stride=(1, 1), bias=False)\n",
              "      (bn3): BatchNorm2d(1024, eps=1e-05, momentum=0.1, affine=True, track_running_stats=True)\n",
              "      (relu): ReLU(inplace=True)\n",
              "      (downsample): Sequential(\n",
              "        (0): Conv2d(512, 1024, kernel_size=(1, 1), stride=(2, 2), bias=False)\n",
              "        (1): BatchNorm2d(1024, eps=1e-05, momentum=0.1, affine=True, track_running_stats=True)\n",
              "      )\n",
              "    )\n",
              "    (1): Bottleneck(\n",
              "      (conv1): Conv2d(1024, 512, kernel_size=(1, 1), stride=(1, 1), bias=False)\n",
              "      (bn1): BatchNorm2d(512, eps=1e-05, momentum=0.1, affine=True, track_running_stats=True)\n",
              "      (conv2): Conv2d(512, 512, kernel_size=(3, 3), stride=(1, 1), padding=(1, 1), groups=32, bias=False)\n",
              "      (bn2): BatchNorm2d(512, eps=1e-05, momentum=0.1, affine=True, track_running_stats=True)\n",
              "      (conv3): Conv2d(512, 1024, kernel_size=(1, 1), stride=(1, 1), bias=False)\n",
              "      (bn3): BatchNorm2d(1024, eps=1e-05, momentum=0.1, affine=True, track_running_stats=True)\n",
              "      (relu): ReLU(inplace=True)\n",
              "    )\n",
              "    (2): Bottleneck(\n",
              "      (conv1): Conv2d(1024, 512, kernel_size=(1, 1), stride=(1, 1), bias=False)\n",
              "      (bn1): BatchNorm2d(512, eps=1e-05, momentum=0.1, affine=True, track_running_stats=True)\n",
              "      (conv2): Conv2d(512, 512, kernel_size=(3, 3), stride=(1, 1), padding=(1, 1), groups=32, bias=False)\n",
              "      (bn2): BatchNorm2d(512, eps=1e-05, momentum=0.1, affine=True, track_running_stats=True)\n",
              "      (conv3): Conv2d(512, 1024, kernel_size=(1, 1), stride=(1, 1), bias=False)\n",
              "      (bn3): BatchNorm2d(1024, eps=1e-05, momentum=0.1, affine=True, track_running_stats=True)\n",
              "      (relu): ReLU(inplace=True)\n",
              "    )\n",
              "    (3): Bottleneck(\n",
              "      (conv1): Conv2d(1024, 512, kernel_size=(1, 1), stride=(1, 1), bias=False)\n",
              "      (bn1): BatchNorm2d(512, eps=1e-05, momentum=0.1, affine=True, track_running_stats=True)\n",
              "      (conv2): Conv2d(512, 512, kernel_size=(3, 3), stride=(1, 1), padding=(1, 1), groups=32, bias=False)\n",
              "      (bn2): BatchNorm2d(512, eps=1e-05, momentum=0.1, affine=True, track_running_stats=True)\n",
              "      (conv3): Conv2d(512, 1024, kernel_size=(1, 1), stride=(1, 1), bias=False)\n",
              "      (bn3): BatchNorm2d(1024, eps=1e-05, momentum=0.1, affine=True, track_running_stats=True)\n",
              "      (relu): ReLU(inplace=True)\n",
              "    )\n",
              "    (4): Bottleneck(\n",
              "      (conv1): Conv2d(1024, 512, kernel_size=(1, 1), stride=(1, 1), bias=False)\n",
              "      (bn1): BatchNorm2d(512, eps=1e-05, momentum=0.1, affine=True, track_running_stats=True)\n",
              "      (conv2): Conv2d(512, 512, kernel_size=(3, 3), stride=(1, 1), padding=(1, 1), groups=32, bias=False)\n",
              "      (bn2): BatchNorm2d(512, eps=1e-05, momentum=0.1, affine=True, track_running_stats=True)\n",
              "      (conv3): Conv2d(512, 1024, kernel_size=(1, 1), stride=(1, 1), bias=False)\n",
              "      (bn3): BatchNorm2d(1024, eps=1e-05, momentum=0.1, affine=True, track_running_stats=True)\n",
              "      (relu): ReLU(inplace=True)\n",
              "    )\n",
              "    (5): Bottleneck(\n",
              "      (conv1): Conv2d(1024, 512, kernel_size=(1, 1), stride=(1, 1), bias=False)\n",
              "      (bn1): BatchNorm2d(512, eps=1e-05, momentum=0.1, affine=True, track_running_stats=True)\n",
              "      (conv2): Conv2d(512, 512, kernel_size=(3, 3), stride=(1, 1), padding=(1, 1), groups=32, bias=False)\n",
              "      (bn2): BatchNorm2d(512, eps=1e-05, momentum=0.1, affine=True, track_running_stats=True)\n",
              "      (conv3): Conv2d(512, 1024, kernel_size=(1, 1), stride=(1, 1), bias=False)\n",
              "      (bn3): BatchNorm2d(1024, eps=1e-05, momentum=0.1, affine=True, track_running_stats=True)\n",
              "      (relu): ReLU(inplace=True)\n",
              "    )\n",
              "  )\n",
              "  (layer4): Sequential(\n",
              "    (0): Bottleneck(\n",
              "      (conv1): Conv2d(1024, 1024, kernel_size=(1, 1), stride=(1, 1), bias=False)\n",
              "      (bn1): BatchNorm2d(1024, eps=1e-05, momentum=0.1, affine=True, track_running_stats=True)\n",
              "      (conv2): Conv2d(1024, 1024, kernel_size=(3, 3), stride=(2, 2), padding=(1, 1), groups=32, bias=False)\n",
              "      (bn2): BatchNorm2d(1024, eps=1e-05, momentum=0.1, affine=True, track_running_stats=True)\n",
              "      (conv3): Conv2d(1024, 2048, kernel_size=(1, 1), stride=(1, 1), bias=False)\n",
              "      (bn3): BatchNorm2d(2048, eps=1e-05, momentum=0.1, affine=True, track_running_stats=True)\n",
              "      (relu): ReLU(inplace=True)\n",
              "      (downsample): Sequential(\n",
              "        (0): Conv2d(1024, 2048, kernel_size=(1, 1), stride=(2, 2), bias=False)\n",
              "        (1): BatchNorm2d(2048, eps=1e-05, momentum=0.1, affine=True, track_running_stats=True)\n",
              "      )\n",
              "    )\n",
              "    (1): Bottleneck(\n",
              "      (conv1): Conv2d(2048, 1024, kernel_size=(1, 1), stride=(1, 1), bias=False)\n",
              "      (bn1): BatchNorm2d(1024, eps=1e-05, momentum=0.1, affine=True, track_running_stats=True)\n",
              "      (conv2): Conv2d(1024, 1024, kernel_size=(3, 3), stride=(1, 1), padding=(1, 1), groups=32, bias=False)\n",
              "      (bn2): BatchNorm2d(1024, eps=1e-05, momentum=0.1, affine=True, track_running_stats=True)\n",
              "      (conv3): Conv2d(1024, 2048, kernel_size=(1, 1), stride=(1, 1), bias=False)\n",
              "      (bn3): BatchNorm2d(2048, eps=1e-05, momentum=0.1, affine=True, track_running_stats=True)\n",
              "      (relu): ReLU(inplace=True)\n",
              "    )\n",
              "    (2): Bottleneck(\n",
              "      (conv1): Conv2d(2048, 1024, kernel_size=(1, 1), stride=(1, 1), bias=False)\n",
              "      (bn1): BatchNorm2d(1024, eps=1e-05, momentum=0.1, affine=True, track_running_stats=True)\n",
              "      (conv2): Conv2d(1024, 1024, kernel_size=(3, 3), stride=(1, 1), padding=(1, 1), groups=32, bias=False)\n",
              "      (bn2): BatchNorm2d(1024, eps=1e-05, momentum=0.1, affine=True, track_running_stats=True)\n",
              "      (conv3): Conv2d(1024, 2048, kernel_size=(1, 1), stride=(1, 1), bias=False)\n",
              "      (bn3): BatchNorm2d(2048, eps=1e-05, momentum=0.1, affine=True, track_running_stats=True)\n",
              "      (relu): ReLU(inplace=True)\n",
              "    )\n",
              "  )\n",
              "  (avgpool): AdaptiveAvgPool2d(output_size=(1, 1))\n",
              "  (fc): Linear(in_features=2048, out_features=1000, bias=True)\n",
              ")"
            ]
          },
          "metadata": {
            "tags": []
          },
          "execution_count": 3
        }
      ]
    },
    {
      "cell_type": "code",
      "metadata": {
        "id": "Iq_EkxrQPGJ_"
      },
      "source": [
        "net.fc = nn.Sequential(\n",
        "          nn.Linear(2048,1024),\n",
        "          nn.LeakyReLU(),\n",
        "          nn.Linear(1024,4),\n",
        "          nn.LeakyReLU()\n",
        "        ).cuda()"
      ],
      "execution_count": 4,
      "outputs": []
    },
    {
      "cell_type": "code",
      "metadata": {
        "id": "YFpH8E4qkuEx"
      },
      "source": [
        "from PIL import Image"
      ],
      "execution_count": 5,
      "outputs": []
    },
    {
      "cell_type": "code",
      "metadata": {
        "id": "C8we7sN4a3ia",
        "outputId": "fc39564d-c8cb-4ce7-f06d-efe4591cbffe",
        "colab": {
          "base_uri": "https://localhost:8080/"
        }
      },
      "source": [
        "!ls \"/content/drive/My Drive/MusgraveTextureNeuralRenderer/GeneratorDictionaries\" | wc -l"
      ],
      "execution_count": 8,
      "outputs": [
        {
          "output_type": "stream",
          "text": [
            "10251\n"
          ],
          "name": "stdout"
        }
      ]
    },
    {
      "cell_type": "code",
      "metadata": {
        "id": "1O2fuy8abI65"
      },
      "source": [
        "# with open(\"/content/drive/My Drive/MusgraveTextureNeuralRenderer/GeneratorDictionaries/out.pkl\",\"rb\") as f:\n",
        "#     l = (pickle.load(f))"
      ],
      "execution_count": 7,
      "outputs": []
    },
    {
      "cell_type": "code",
      "metadata": {
        "id": "W-5j8TIXqXvP",
        "outputId": "1c1a3954-56d0-4d6f-8aa4-f2bc79fee7c3",
        "colab": {
          "base_uri": "https://localhost:8080/"
        }
      },
      "source": [
        "!ls \"/content/drive/My Drive/MusgraveTextureNeuralRenderer/GeneratorDictionaries/\" | grep \".*pkl\""
      ],
      "execution_count": 11,
      "outputs": [
        {
          "output_type": "stream",
          "text": [
            "out.pkl\n"
          ],
          "name": "stdout"
        }
      ]
    },
    {
      "cell_type": "code",
      "metadata": {
        "id": "VJI1GqtKp-kI",
        "outputId": "5cd27b68-f78f-499c-ae02-eefc0a652f77",
        "colab": {
          "base_uri": "https://localhost:8080/"
        }
      },
      "source": [
        "!ls \"/content/drive/My Drive/*/\" | wc -l"
      ],
      "execution_count": 10,
      "outputs": [
        {
          "output_type": "stream",
          "text": [
            "ls: cannot access '/content/drive/My Drive/*/': No such file or directory\n",
            "0\n"
          ],
          "name": "stdout"
        }
      ]
    },
    {
      "cell_type": "code",
      "metadata": {
        "id": "0w0JVrA5eAld"
      },
      "source": [
        "class MusgraveDataset(Dataset):\n",
        "    def __init__(self,transforms):\n",
        "        with open(\"/content/drive/My Drive/MusgraveTextureNeuralRenderer/GeneratorDictionaries/out.pkl\",\"rb\") as f:\n",
        "            self.l = (pickle.load(f))\n",
        "        self.transforms = transforms\n",
        "    def __getitem__(self, index):\n",
        "        # print(index)\n",
        "        l = self.l\n",
        "        file_name = l[index][\"name\"]\n",
        "        file_name = \"/content/drive/My Drive/MusgraveTextureNeuralRenderer/GeneratorDictionaries/\"+file_name\n",
        "        img = Image.open(file_name)\n",
        "        # img = cv2.imread(file_name)\n",
        "        # img = np.transpose(img,(2,0,1))\n",
        "        # transforms.Compose([\n",
        "            \n",
        "        # ])\n",
        "        return ((self.transforms(img),torch.Tensor(l[index][\"values\"])))\n",
        "    \n",
        "    def __len__(self):\n",
        "        return len(self.l)"
      ],
      "execution_count": 9,
      "outputs": []
    },
    {
      "cell_type": "code",
      "metadata": {
        "id": "InkoI-cwfWVF"
      },
      "source": [
        "# !ls \"./drive/My Drive/MusgraveTextureNeuralRenderer/Generator/*.pkl\""
      ],
      "execution_count": null,
      "outputs": []
    },
    {
      "cell_type": "code",
      "metadata": {
        "id": "yigcll-ffCnM"
      },
      "source": [
        "# import pickle\n",
        "# with open(\"./drive/My Drive/MusgraveTextureNeuralRenderer/out.pkl\",\"rb\") as f:\n",
        "#     l = (pickle.load(f))"
      ],
      "execution_count": null,
      "outputs": []
    },
    {
      "cell_type": "code",
      "metadata": {
        "id": "dUJVV21ThzhQ"
      },
      "source": [
        "transform = transforms.Compose([torchvision.transforms.Resize((224,224)),transforms.ToTensor()])\n",
        "train = MusgraveDataset(transforms = transform)\n",
        "train_loader = DataLoader(dataset=train, batch_size=10, shuffle=True, num_workers=2)"
      ],
      "execution_count": 10,
      "outputs": []
    },
    {
      "cell_type": "code",
      "metadata": {
        "id": "-TTIepeJzXdd",
        "outputId": "588e0060-0dfb-4518-cc99-ef46dede53e3",
        "colab": {
          "base_uri": "https://localhost:8080/"
        }
      },
      "source": [
        "train[0][0].shape"
      ],
      "execution_count": 28,
      "outputs": [
        {
          "output_type": "execute_result",
          "data": {
            "text/plain": [
              "torch.Size([3, 224, 224])"
            ]
          },
          "metadata": {
            "tags": []
          },
          "execution_count": 28
        }
      ]
    },
    {
      "cell_type": "code",
      "metadata": {
        "id": "80q8RknajNTE"
      },
      "source": [
        "import torch.optim as optim\n",
        "\n",
        "# criterion = nn.MSELoss(reduction='sum')\n",
        "criterion = nn.L1Loss()\n",
        "optimizer = optim.Adam(net.parameters(), lr=0.0001)\n",
        "\n",
        "# optimizer = optim.SGD(render.parameters(), lr=0.001, momentum=0.9)"
      ],
      "execution_count": 11,
      "outputs": []
    },
    {
      "cell_type": "code",
      "metadata": {
        "id": "RcVGaeZGmRZ4"
      },
      "source": [
        "def show(img):\n",
        "    img = img.detach().cpu().numpy()[0]\n",
        "    img  = np.transpose(img,(1,2,0))\n",
        "    print(img.shape)\n",
        "    cv2_imshow(img)"
      ],
      "execution_count": 17,
      "outputs": []
    },
    {
      "cell_type": "code",
      "metadata": {
        "id": "HdU9WCpiWdo5"
      },
      "source": [
        "# train.l"
      ],
      "execution_count": null,
      "outputs": []
    },
    {
      "cell_type": "code",
      "metadata": {
        "id": "-LtX13yDbmFl"
      },
      "source": [
        "# inputs.shape"
      ],
      "execution_count": null,
      "outputs": []
    },
    {
      "cell_type": "code",
      "metadata": {
        "id": "1mHpqn75gpEA",
        "outputId": "9b885889-6ea4-4689-919a-2c8bb205f936",
        "colab": {
          "base_uri": "https://localhost:8080/"
        }
      },
      "source": [
        "loss_n = None\n",
        "for epoch in range(3):\n",
        "    for i,data in enumerate(train_loader):\n",
        "        inputs, labels = data[0].cuda(),data[1].cuda()\n",
        "        labels[:,0]/=12\n",
        "        labels[:,1]/=16\n",
        "        labels[:,2]/=4\n",
        "        labels[:,3]/=3\n",
        "        # labels/=255\n",
        "        optimizer.zero_grad()\n",
        "        \n",
        "        output = net(inputs)\n",
        "        \n",
        "        loss = criterion(output, labels)\n",
        "        try:\n",
        "            loss_n+=loss\n",
        "        except:\n",
        "            loss_n = loss\n",
        "        \n",
        "        if(i%10==9):\n",
        "            loss_n.backward()\n",
        "            optimizer.step()\n",
        "            # print(loss.item())\n",
        "            print(\"Epoch:- %2d Loss:- %0.3f i:- %5d\".format(epoch,loss_n.item()/10,i))\n",
        "            # print(output,inputs)\n",
        "            loss_n = None\n",
        "        \n",
        "        "
      ],
      "execution_count": 12,
      "outputs": [
        {
          "output_type": "stream",
          "text": [
            "0.4354084014892578\n",
            "0.26604747772216797\n",
            "0.2887009859085083\n",
            "0.2706432342529297\n",
            "0.2599637985229492\n",
            "0.2297600507736206\n",
            "0.21380925178527832\n",
            "0.20515866279602052\n",
            "0.23235445022583007\n",
            "0.22060482501983641\n",
            "0.21014080047607422\n",
            "0.22579147815704345\n",
            "0.1844189167022705\n",
            "0.19550771713256837\n",
            "0.19366519451141356\n",
            "0.20097858905792237\n",
            "0.1793646454811096\n",
            "0.20049219131469725\n",
            "0.2010430097579956\n",
            "0.19385586977005004\n",
            "0.1962385058403015\n",
            "0.18405224084854127\n",
            "0.18541566133499146\n",
            "0.19588842391967773\n",
            "0.18502177000045777\n",
            "0.1772243857383728\n",
            "0.1779703378677368\n",
            "0.18676671981811524\n",
            "0.18549448251724243\n",
            "0.18429778814315795\n",
            "0.17563084363937378\n",
            "0.19308288097381593\n",
            "0.1603240728378296\n",
            "0.17623268365859984\n",
            "0.180990469455719\n",
            "0.18837379217147826\n",
            "0.17961331605911254\n",
            "0.1650150775909424\n",
            "0.17637475728988647\n",
            "0.173515784740448\n",
            "0.1720563292503357\n",
            "0.16564981937408446\n",
            "0.17383790016174316\n",
            "0.18603036403656006\n",
            "0.15134215354919434\n",
            "0.1736816167831421\n",
            "0.1686345100402832\n",
            "0.16718153953552245\n",
            "0.16850292682647705\n",
            "0.17794013023376465\n",
            "0.1783687114715576\n",
            "0.17040202617645264\n",
            "0.1765599250793457\n",
            "0.1741943836212158\n",
            "0.16334185600280762\n",
            "0.15673066377639772\n",
            "0.17046276330947877\n",
            "0.1662937045097351\n",
            "0.1657399296760559\n",
            "0.1698383569717407\n",
            "0.1718618631362915\n",
            "0.15788192749023439\n",
            "0.15847574472427367\n",
            "0.15965131521224976\n",
            "0.15917584896087647\n",
            "0.17176913022994994\n",
            "0.17053802013397218\n",
            "0.15924354791641235\n",
            "0.17590197324752807\n",
            "0.16397846937179567\n",
            "0.16692272424697877\n",
            "0.1615679979324341\n",
            "0.16309144496917724\n",
            "0.1782365083694458\n",
            "0.1771919846534729\n",
            "0.16397719383239745\n",
            "0.15659337043762206\n",
            "0.16550055742263795\n",
            "0.15246274471282958\n",
            "0.14779027700424194\n",
            "0.15795718431472777\n",
            "0.1690464735031128\n",
            "0.15358848571777345\n",
            "0.14547889232635497\n",
            "0.1451885223388672\n",
            "0.15906848907470703\n",
            "0.16119532585144042\n",
            "0.15665755271911622\n",
            "0.15837082862854004\n",
            "0.15433086156845094\n",
            "0.16127498149871827\n",
            "0.16226553916931152\n",
            "0.1726006031036377\n",
            "0.162089741230011\n",
            "0.16430048942565917\n",
            "0.1581722617149353\n",
            "0.15646107196807862\n",
            "0.18753842115402222\n",
            "0.16331905126571655\n",
            "0.17398914098739623\n",
            "0.1533111810684204\n",
            "0.17263214588165282\n",
            "0.16592760086059571\n",
            "0.1589147925376892\n",
            "0.16166476011276246\n",
            "0.16611403226852417\n",
            "0.15042015314102172\n",
            "0.16186527013778687\n",
            "0.15547771453857423\n",
            "0.15984617471694945\n",
            "0.16191548109054565\n",
            "0.16021301746368408\n",
            "0.15883103609085084\n",
            "0.15253069400787353\n",
            "0.1696149468421936\n",
            "0.1513538956642151\n",
            "0.15243326425552367\n",
            "0.155363130569458\n",
            "0.1606791615486145\n",
            "0.15282015800476073\n",
            "0.13984928131103516\n",
            "0.15991859436035155\n",
            "0.1406930685043335\n",
            "0.1547455072402954\n",
            "0.15708553791046143\n",
            "0.15175517797470092\n",
            "0.15900561809539795\n",
            "0.14218549728393554\n",
            "0.15522642135620118\n",
            "0.1551395058631897\n",
            "0.16268157958984375\n",
            "0.18261318206787108\n",
            "0.1593576192855835\n",
            "0.14741618633270265\n",
            "0.15403809547424316\n",
            "0.14710135459899903\n",
            "0.15100117921829223\n",
            "0.15087310075759888\n",
            "0.15390068292617798\n",
            "0.14328855276107788\n",
            "0.16233912706375123\n",
            "0.15395963191986084\n",
            "0.13500497341156006\n",
            "0.1573399782180786\n",
            "0.15544145107269286\n",
            "0.15351834297180175\n",
            "0.1621347427368164\n",
            "0.14489907026290894\n",
            "0.14704421758651734\n",
            "0.14277243614196777\n",
            "0.14239495992660522\n",
            "0.14907679557800294\n",
            "0.14958159923553466\n",
            "0.1584369421005249\n",
            "0.14639034271240234\n",
            "0.15758661031723023\n",
            "0.1471496820449829\n",
            "0.13667280673980714\n",
            "0.14746958017349243\n",
            "0.15399200916290284\n",
            "0.15471322536468507\n",
            "0.15578325986862182\n",
            "0.15382670164108275\n",
            "0.1682323098182678\n",
            "0.1570482850074768\n",
            "0.17207449674606323\n",
            "0.1437314510345459\n",
            "0.1482163190841675\n",
            "0.1365255355834961\n",
            "0.15002827644348143\n",
            "0.132664692401886\n",
            "0.15244385004043579\n",
            "0.15957926511764525\n",
            "0.15344035625457764\n",
            "0.14663517475128174\n",
            "0.15650742053985595\n",
            "0.1630114197731018\n",
            "0.15324987173080445\n",
            "0.1489250898361206\n",
            "0.15775262117385863\n",
            "0.1581181287765503\n",
            "0.13962910175323487\n",
            "0.154276442527771\n",
            "0.1443699598312378\n",
            "0.15758438110351564\n",
            "0.16083406209945678\n",
            "0.15709378719329833\n",
            "0.16296780109405518\n",
            "0.1489575147628784\n",
            "0.1580501079559326\n",
            "0.1466619610786438\n",
            "0.15106202363967897\n",
            "0.1376360058784485\n",
            "0.152890145778656\n",
            "0.1467200756072998\n",
            "0.14346133470535277\n",
            "0.16061487197875976\n",
            "0.15888293981552123\n",
            "0.13487398624420166\n",
            "0.14661545753479005\n",
            "0.14801706075668336\n",
            "0.14862432479858398\n",
            "0.15385377407073975\n",
            "0.1445070505142212\n",
            "0.1459101915359497\n",
            "0.1513982057571411\n",
            "0.13440107107162474\n",
            "0.13596975803375244\n",
            "0.13966380357742308\n",
            "0.14314894676208495\n",
            "0.15156397819519044\n",
            "0.14829461574554442\n",
            "0.15219366550445557\n",
            "0.14563316106796265\n",
            "0.14900083541870118\n",
            "0.14565259218215942\n",
            "0.15592855215072632\n",
            "0.15513871908187865\n",
            "0.1439459204673767\n",
            "0.13915567398071288\n",
            "0.1573300004005432\n",
            "0.1449668288230896\n",
            "0.13484281301498413\n",
            "0.14275748729705812\n",
            "0.14526699781417846\n",
            "0.1437213659286499\n",
            "0.1417980194091797\n",
            "0.14039815664291383\n",
            "0.14134894609451293\n",
            "0.13827712535858155\n",
            "0.14266157150268555\n",
            "0.15120346546173097\n",
            "0.1503581166267395\n",
            "0.14204463958740235\n",
            "0.14344711303710939\n",
            "0.15166018009185792\n",
            "0.1321290612220764\n",
            "0.1489808440208435\n",
            "0.1438150405883789\n",
            "0.16009436845779418\n",
            "0.1477720856666565\n",
            "0.15063877105712892\n",
            "0.14936894178390503\n",
            "0.15663342475891112\n",
            "0.14524588584899903\n",
            "0.15545871257781982\n",
            "0.14631216526031493\n",
            "0.15533050298690795\n",
            "0.14183999300003053\n",
            "0.14078437089920043\n",
            "0.14386794567108155\n",
            "0.13455668687820435\n",
            "0.14353803396224976\n",
            "0.14042978286743163\n",
            "0.13271660804748536\n",
            "0.15125786066055297\n",
            "0.14370845556259154\n",
            "0.1552557349205017\n",
            "0.14620964527130126\n",
            "0.138966703414917\n",
            "0.14600547552108764\n",
            "0.14261510372161865\n",
            "0.141625714302063\n",
            "0.1415846586227417\n",
            "0.13664283752441406\n",
            "0.1476725935935974\n",
            "0.1475426435470581\n",
            "0.15072717666625976\n",
            "0.14349892139434814\n",
            "0.13979454040527345\n",
            "0.1468253254890442\n",
            "0.15209805965423584\n",
            "0.15606586933135985\n",
            "0.13439130783081055\n",
            "0.15225775241851808\n",
            "0.148402202129364\n",
            "0.14221290349960328\n",
            "0.1393081784248352\n",
            "0.1343064785003662\n",
            "0.15075745582580566\n",
            "0.14475568532943725\n",
            "0.13849745988845824\n",
            "0.13433337211608887\n",
            "0.1510697364807129\n",
            "0.14434746503829957\n",
            "0.14099792242050171\n",
            "0.15023714303970337\n",
            "0.14777423143386842\n",
            "0.15460567474365233\n",
            "0.13997162580490113\n",
            "0.1253593921661377\n",
            "0.1556312084197998\n",
            "0.14381330013275145\n",
            "0.1506592035293579\n",
            "0.1567741870880127\n",
            "0.15053119659423828\n",
            "0.1516367793083191\n",
            "0.13629006147384642\n",
            "0.14268715381622316\n",
            "0.1492341160774231\n"
          ],
          "name": "stdout"
        }
      ]
    },
    {
      "cell_type": "code",
      "metadata": {
        "id": "jL0-LvbzxYlg"
      },
      "source": [
        "torch.save(net, \"/content/drive/My Drive/MusgraveTextureNeuralRenderer/model2.pth\")"
      ],
      "execution_count": 13,
      "outputs": []
    },
    {
      "cell_type": "code",
      "metadata": {
        "id": "qTvVKHYHsNUM",
        "outputId": "d8b2d4fe-6f44-4130-b270-64a9cc0e8e2e",
        "colab": {
          "base_uri": "https://localhost:8080/"
        }
      },
      "source": [
        "output"
      ],
      "execution_count": 14,
      "outputs": [
        {
          "output_type": "execute_result",
          "data": {
            "text/plain": [
              "tensor([[ 0.3843,  0.1482,  0.2146,  0.6386],\n",
              "        [ 0.3903,  0.8230,  0.6964,  0.3965],\n",
              "        [ 0.4925,  0.7588,  0.9968,  0.7446],\n",
              "        [ 0.4396,  0.6909,  0.2880,  0.4603],\n",
              "        [ 0.3473,  0.6302, -0.0038,  0.3761],\n",
              "        [ 0.4398,  0.7297,  0.6872,  0.3973],\n",
              "        [ 0.4782,  0.6956,  1.0303, -0.0019],\n",
              "        [ 0.5404,  0.1816,  0.6542,  1.0488],\n",
              "        [ 0.4380,  0.9054,  0.2891,  0.4709],\n",
              "        [ 0.3893,  0.0793,  0.9530,  1.0031]], device='cuda:0',\n",
              "       grad_fn=<LeakyReluBackward0>)"
            ]
          },
          "metadata": {
            "tags": []
          },
          "execution_count": 14
        }
      ]
    },
    {
      "cell_type": "code",
      "metadata": {
        "id": "FuSf4UbDsOM8",
        "outputId": "b49205e9-b3fe-4bcc-952b-316c77f2938f",
        "colab": {
          "base_uri": "https://localhost:8080/"
        }
      },
      "source": [
        "labels"
      ],
      "execution_count": 15,
      "outputs": [
        {
          "output_type": "execute_result",
          "data": {
            "text/plain": [
              "tensor([[0.3333, 0.1250, 0.2500, 0.0000],\n",
              "        [0.5833, 0.8750, 0.7500, 0.3333],\n",
              "        [0.9167, 0.8125, 1.0000, 0.6667],\n",
              "        [0.7500, 0.7500, 0.2500, 1.0000],\n",
              "        [0.9167, 0.8125, 0.0000, 0.0000],\n",
              "        [0.0833, 0.7500, 0.7500, 0.3333],\n",
              "        [0.8333, 0.7500, 1.0000, 0.0000],\n",
              "        [0.3333, 0.2500, 0.7500, 1.0000],\n",
              "        [0.5000, 0.9375, 0.2500, 0.0000],\n",
              "        [0.5000, 0.0625, 0.7500, 1.0000]], device='cuda:0')"
            ]
          },
          "metadata": {
            "tags": []
          },
          "execution_count": 15
        }
      ]
    },
    {
      "cell_type": "code",
      "metadata": {
        "id": "kkF5yrSlIiKH"
      },
      "source": [
        "torch.save(render.state_dict(), \"./drive/My Drive/Skin Cancer/RenderResNet.pth\")"
      ],
      "execution_count": null,
      "outputs": []
    },
    {
      "cell_type": "code",
      "metadata": {
        "id": "P0GuqPz7TIXQ"
      },
      "source": [
        "torch.save(render.state_dict(), \"./drive/My Drive/Skin Cancer/AlexNet.pth\")"
      ],
      "execution_count": null,
      "outputs": []
    },
    {
      "cell_type": "code",
      "metadata": {
        "id": "LgKnNNeco-ho"
      },
      "source": [
        "def norm(out):\n",
        "    out-=out.mean()\n",
        "    out/=out.max()\n",
        "    return out"
      ],
      "execution_count": null,
      "outputs": []
    },
    {
      "cell_type": "code",
      "metadata": {
        "id": "DzCS7ZH8os6c",
        "outputId": "72069b47-1802-4a6c-ce2a-c0e0a9b54f46",
        "colab": {
          "base_uri": "https://localhost:8080/",
          "height": 34
        }
      },
      "source": [
        "inputs.shape,output.shape"
      ],
      "execution_count": null,
      "outputs": [
        {
          "output_type": "execute_result",
          "data": {
            "text/plain": [
              "(torch.Size([4, 4]), torch.Size([4, 1000]))"
            ]
          },
          "metadata": {
            "tags": []
          },
          "execution_count": 92
        }
      ]
    },
    {
      "cell_type": "code",
      "metadata": {
        "id": "w07beL7GdF6N"
      },
      "source": [
        "NetEpochs = 10000\n",
        "start, stop, step = 7,10,1\n",
        "Dataset = [x for x in range(1000)]\n",
        "# Dataset = [0,1]\n",
        "# Dataset = [0]\n",
        "done = False\n",
        "for data in Dataset:\n",
        "  \n",
        "  tdata = torch.Tensor([p]).cuda()\n",
        "  X = model(tdata)\n",
        "  # print(X)t\n",
        "  X_CNN = cnn(X)\n",
        "  # X = X*(255/X.mean())\n",
        "\n",
        "  X_CNN2 = cnn2(X)\n",
        "  \n",
        "  img = process_image(X)\n",
        "  # print(data,end=\" \")\n",
        "  # print(\"[ AlexNet \"+str(dat[int(torch.argmax(X_CNN).detach().cpu().numpy())]),end=\"] \")\n",
        "  # print(\"[ ResNet \"+str(dat[int(torch.argmax(X_CNN2).detach().cpu().numpy())]),end=\"]\")\n",
        "  \n",
        "  # cv2_imshow(img)\n",
        "  cv2.imwrite(\"dog.jpg\",img)\n",
        "  os.system(\"python gradcam.py --image-path=dog.jpg --use-cuda\")\n",
        "  cp(data)\n",
        "  updateJson(data,X_CNN,X_CNN2)\n",
        "  if((data%10)==0):\n",
        "    print(data)\n",
        "  # break\n",
        "  # imgR = cv2.imread(\"cam.jpg\")\n",
        "  # cv2_imshow(imgR)\n"
      ],
      "execution_count": null,
      "outputs": []
    },
    {
      "cell_type": "markdown",
      "metadata": {
        "id": "DKX2N_exdFp-"
      },
      "source": [
        ""
      ]
    }
  ]
}